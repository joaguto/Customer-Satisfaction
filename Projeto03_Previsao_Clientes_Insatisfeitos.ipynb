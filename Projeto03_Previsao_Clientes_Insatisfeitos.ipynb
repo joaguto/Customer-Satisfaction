{
 "cells": [
  {
   "cell_type": "markdown",
   "metadata": {},
   "source": [
    "# Prevendo o Nível de Satisfação dos Clientes do Santander"
   ]
  },
  {
   "cell_type": "markdown",
   "metadata": {},
   "source": [
    "Sábado, 6 de novembro de 2021"
   ]
  },
  {
   "cell_type": "markdown",
   "metadata": {},
   "source": [
    "## Definição do Problema:\n",
    "\n",
    "Indentificar os clientes que estão insatisfeitos com os serviços bancarios do Banco Santander com uma precisão de pelo menos 70% utilizando de todos os recursos disponiveis na linguagem Python"
   ]
  },
  {
   "cell_type": "markdown",
   "metadata": {},
   "source": [
    "# Importação dos pacotes necessarios"
   ]
  },
  {
   "cell_type": "code",
   "execution_count": 1,
   "metadata": {},
   "outputs": [],
   "source": [
    "# Realizando importações do pacote\n",
    "import warnings\n",
    "warnings.filterwarnings(\"ignore\")\n",
    "import pandas as pd\n",
    "import numpy as np\n",
    "import sklearn as sk\n",
    "from sklearn.feature_selection import VarianceThreshold\n",
    "import matplotlib.pyplot as plt\n",
    "import seaborn as sns\n",
    "import xgboost as xgb\n",
    "from sklearn.model_selection import GridSearchCV\n",
    "from sklearn.preprocessing import MinMaxScaler\n",
    "from sklearn.preprocessing import StandardScaler\n",
    "from sklearn.model_selection import train_test_split\n",
    "from sklearn.metrics import roc_auc_score, accuracy_score\n",
    "from sklearn.model_selection import KFold\n",
    "from sklearn.model_selection import cross_val_score\n",
    "from sklearn.linear_model import LogisticRegression\n",
    "from sklearn.tree import DecisionTreeClassifier\n",
    "from sklearn.neighbors import KNeighborsClassifier\n",
    "from sklearn.discriminant_analysis import LinearDiscriminantAnalysis\n",
    "from sklearn.naive_bayes import GaussianNB\n",
    "from sklearn.svm import SVC\n",
    "from imblearn.under_sampling import NearMiss\n",
    "from sklearn.metrics import classification_report, confusion_matrix\n",
    "from sklearn.feature_selection import RFE"
   ]
  },
  {
   "cell_type": "markdown",
   "metadata": {},
   "source": [
    "# Importação dos Dados"
   ]
  },
  {
   "cell_type": "code",
   "execution_count": 2,
   "metadata": {},
   "outputs": [],
   "source": [
    "# Carregando dados de treino.\n",
    "treino = pd.read_csv('dataset/train.csv')\n",
    "\n",
    "# Carregando dados de teste.\n",
    "teste = pd.read_csv('dataset/test.csv')"
   ]
  },
  {
   "cell_type": "markdown",
   "metadata": {},
   "source": [
    "# Analise Exploratoria dos Dados"
   ]
  },
  {
   "cell_type": "code",
   "execution_count": 3,
   "metadata": {},
   "outputs": [
    {
     "name": "stdout",
     "output_type": "stream",
     "text": [
      "O shape do Dataset é: (76020, 371)\n",
      "\n",
      "ID\n",
      "var3\n",
      "var15\n",
      "imp_ent_var16_ult1\n",
      "imp_op_var39_comer_ult1\n",
      "imp_op_var39_comer_ult3\n",
      "imp_op_var40_comer_ult1\n",
      "imp_op_var40_comer_ult3\n",
      "imp_op_var40_efect_ult1\n",
      "imp_op_var40_efect_ult3\n",
      "imp_op_var40_ult1\n",
      "imp_op_var41_comer_ult1\n",
      "imp_op_var41_comer_ult3\n",
      "imp_op_var41_efect_ult1\n",
      "imp_op_var41_efect_ult3\n",
      "imp_op_var41_ult1\n",
      "imp_op_var39_efect_ult1\n",
      "imp_op_var39_efect_ult3\n",
      "imp_op_var39_ult1\n",
      "imp_sal_var16_ult1\n",
      "ind_var1_0\n",
      "ind_var1\n",
      "ind_var2_0\n",
      "ind_var2\n",
      "ind_var5_0\n",
      "ind_var5\n",
      "ind_var6_0\n",
      "ind_var6\n",
      "ind_var8_0\n",
      "ind_var8\n",
      "ind_var12_0\n",
      "ind_var12\n",
      "ind_var13_0\n",
      "ind_var13_corto_0\n",
      "ind_var13_corto\n",
      "ind_var13_largo_0\n",
      "ind_var13_largo\n",
      "ind_var13_medio_0\n",
      "ind_var13_medio\n",
      "ind_var13\n",
      "ind_var14_0\n",
      "ind_var14\n",
      "ind_var17_0\n",
      "ind_var17\n",
      "ind_var18_0\n",
      "ind_var18\n",
      "ind_var19\n",
      "ind_var20_0\n",
      "ind_var20\n",
      "ind_var24_0\n",
      "ind_var24\n",
      "ind_var25_cte\n",
      "ind_var26_0\n",
      "ind_var26_cte\n",
      "ind_var26\n",
      "ind_var25_0\n",
      "ind_var25\n",
      "ind_var27_0\n",
      "ind_var28_0\n",
      "ind_var28\n",
      "ind_var27\n",
      "ind_var29_0\n",
      "ind_var29\n",
      "ind_var30_0\n",
      "ind_var30\n",
      "ind_var31_0\n",
      "ind_var31\n",
      "ind_var32_cte\n",
      "ind_var32_0\n",
      "ind_var32\n",
      "ind_var33_0\n",
      "ind_var33\n",
      "ind_var34_0\n",
      "ind_var34\n",
      "ind_var37_cte\n",
      "ind_var37_0\n",
      "ind_var37\n",
      "ind_var39_0\n",
      "ind_var40_0\n",
      "ind_var40\n",
      "ind_var41_0\n",
      "ind_var41\n",
      "ind_var39\n",
      "ind_var44_0\n",
      "ind_var44\n",
      "ind_var46_0\n",
      "ind_var46\n",
      "num_var1_0\n",
      "num_var1\n",
      "num_var4\n",
      "num_var5_0\n",
      "num_var5\n",
      "num_var6_0\n",
      "num_var6\n",
      "num_var8_0\n",
      "num_var8\n",
      "num_var12_0\n",
      "num_var12\n",
      "num_var13_0\n",
      "num_var13_corto_0\n",
      "num_var13_corto\n",
      "num_var13_largo_0\n",
      "num_var13_largo\n",
      "num_var13_medio_0\n",
      "num_var13_medio\n",
      "num_var13\n",
      "num_var14_0\n",
      "num_var14\n",
      "num_var17_0\n",
      "num_var17\n",
      "num_var18_0\n",
      "num_var18\n",
      "num_var20_0\n",
      "num_var20\n",
      "num_var24_0\n",
      "num_var24\n",
      "num_var26_0\n",
      "num_var26\n",
      "num_var25_0\n",
      "num_var25\n",
      "num_op_var40_hace2\n",
      "num_op_var40_hace3\n",
      "num_op_var40_ult1\n",
      "num_op_var40_ult3\n",
      "num_op_var41_hace2\n",
      "num_op_var41_hace3\n",
      "num_op_var41_ult1\n",
      "num_op_var41_ult3\n",
      "num_op_var39_hace2\n",
      "num_op_var39_hace3\n",
      "num_op_var39_ult1\n",
      "num_op_var39_ult3\n",
      "num_var27_0\n",
      "num_var28_0\n",
      "num_var28\n",
      "num_var27\n",
      "num_var29_0\n",
      "num_var29\n",
      "num_var30_0\n",
      "num_var30\n",
      "num_var31_0\n",
      "num_var31\n",
      "num_var32_0\n",
      "num_var32\n",
      "num_var33_0\n",
      "num_var33\n",
      "num_var34_0\n",
      "num_var34\n",
      "num_var35\n",
      "num_var37_med_ult2\n",
      "num_var37_0\n",
      "num_var37\n",
      "num_var39_0\n",
      "num_var40_0\n",
      "num_var40\n",
      "num_var41_0\n",
      "num_var41\n",
      "num_var39\n",
      "num_var42_0\n",
      "num_var42\n",
      "num_var44_0\n",
      "num_var44\n",
      "num_var46_0\n",
      "num_var46\n",
      "saldo_var1\n",
      "saldo_var5\n",
      "saldo_var6\n",
      "saldo_var8\n",
      "saldo_var12\n",
      "saldo_var13_corto\n",
      "saldo_var13_largo\n",
      "saldo_var13_medio\n",
      "saldo_var13\n",
      "saldo_var14\n",
      "saldo_var17\n",
      "saldo_var18\n",
      "saldo_var20\n",
      "saldo_var24\n",
      "saldo_var26\n",
      "saldo_var25\n",
      "saldo_var28\n",
      "saldo_var27\n",
      "saldo_var29\n",
      "saldo_var30\n",
      "saldo_var31\n",
      "saldo_var32\n",
      "saldo_var33\n",
      "saldo_var34\n",
      "saldo_var37\n",
      "saldo_var40\n",
      "saldo_var41\n",
      "saldo_var42\n",
      "saldo_var44\n",
      "saldo_var46\n",
      "var36\n",
      "delta_imp_amort_var18_1y3\n",
      "delta_imp_amort_var34_1y3\n",
      "delta_imp_aport_var13_1y3\n",
      "delta_imp_aport_var17_1y3\n",
      "delta_imp_aport_var33_1y3\n",
      "delta_imp_compra_var44_1y3\n",
      "delta_imp_reemb_var13_1y3\n",
      "delta_imp_reemb_var17_1y3\n",
      "delta_imp_reemb_var33_1y3\n",
      "delta_imp_trasp_var17_in_1y3\n",
      "delta_imp_trasp_var17_out_1y3\n",
      "delta_imp_trasp_var33_in_1y3\n",
      "delta_imp_trasp_var33_out_1y3\n",
      "delta_imp_venta_var44_1y3\n",
      "delta_num_aport_var13_1y3\n",
      "delta_num_aport_var17_1y3\n",
      "delta_num_aport_var33_1y3\n",
      "delta_num_compra_var44_1y3\n",
      "delta_num_reemb_var13_1y3\n",
      "delta_num_reemb_var17_1y3\n",
      "delta_num_reemb_var33_1y3\n",
      "delta_num_trasp_var17_in_1y3\n",
      "delta_num_trasp_var17_out_1y3\n",
      "delta_num_trasp_var33_in_1y3\n",
      "delta_num_trasp_var33_out_1y3\n",
      "delta_num_venta_var44_1y3\n",
      "imp_amort_var18_hace3\n",
      "imp_amort_var18_ult1\n",
      "imp_amort_var34_hace3\n",
      "imp_amort_var34_ult1\n",
      "imp_aport_var13_hace3\n",
      "imp_aport_var13_ult1\n",
      "imp_aport_var17_hace3\n",
      "imp_aport_var17_ult1\n",
      "imp_aport_var33_hace3\n",
      "imp_aport_var33_ult1\n",
      "imp_var7_emit_ult1\n",
      "imp_var7_recib_ult1\n",
      "imp_compra_var44_hace3\n",
      "imp_compra_var44_ult1\n",
      "imp_reemb_var13_hace3\n",
      "imp_reemb_var13_ult1\n",
      "imp_reemb_var17_hace3\n",
      "imp_reemb_var17_ult1\n",
      "imp_reemb_var33_hace3\n",
      "imp_reemb_var33_ult1\n",
      "imp_var43_emit_ult1\n",
      "imp_trans_var37_ult1\n",
      "imp_trasp_var17_in_hace3\n",
      "imp_trasp_var17_in_ult1\n",
      "imp_trasp_var17_out_hace3\n",
      "imp_trasp_var17_out_ult1\n",
      "imp_trasp_var33_in_hace3\n",
      "imp_trasp_var33_in_ult1\n",
      "imp_trasp_var33_out_hace3\n",
      "imp_trasp_var33_out_ult1\n",
      "imp_venta_var44_hace3\n",
      "imp_venta_var44_ult1\n",
      "ind_var7_emit_ult1\n",
      "ind_var7_recib_ult1\n",
      "ind_var10_ult1\n",
      "ind_var10cte_ult1\n",
      "ind_var9_cte_ult1\n",
      "ind_var9_ult1\n",
      "ind_var43_emit_ult1\n",
      "ind_var43_recib_ult1\n",
      "var21\n",
      "num_var2_0_ult1\n",
      "num_var2_ult1\n",
      "num_aport_var13_hace3\n",
      "num_aport_var13_ult1\n",
      "num_aport_var17_hace3\n",
      "num_aport_var17_ult1\n",
      "num_aport_var33_hace3\n",
      "num_aport_var33_ult1\n",
      "num_var7_emit_ult1\n",
      "num_var7_recib_ult1\n",
      "num_compra_var44_hace3\n",
      "num_compra_var44_ult1\n",
      "num_ent_var16_ult1\n",
      "num_var22_hace2\n",
      "num_var22_hace3\n",
      "num_var22_ult1\n",
      "num_var22_ult3\n",
      "num_med_var22_ult3\n",
      "num_med_var45_ult3\n",
      "num_meses_var5_ult3\n",
      "num_meses_var8_ult3\n",
      "num_meses_var12_ult3\n",
      "num_meses_var13_corto_ult3\n",
      "num_meses_var13_largo_ult3\n",
      "num_meses_var13_medio_ult3\n",
      "num_meses_var17_ult3\n",
      "num_meses_var29_ult3\n",
      "num_meses_var33_ult3\n",
      "num_meses_var39_vig_ult3\n",
      "num_meses_var44_ult3\n",
      "num_op_var39_comer_ult1\n",
      "num_op_var39_comer_ult3\n",
      "num_op_var40_comer_ult1\n",
      "num_op_var40_comer_ult3\n",
      "num_op_var40_efect_ult1\n",
      "num_op_var40_efect_ult3\n",
      "num_op_var41_comer_ult1\n",
      "num_op_var41_comer_ult3\n",
      "num_op_var41_efect_ult1\n",
      "num_op_var41_efect_ult3\n",
      "num_op_var39_efect_ult1\n",
      "num_op_var39_efect_ult3\n",
      "num_reemb_var13_hace3\n",
      "num_reemb_var13_ult1\n",
      "num_reemb_var17_hace3\n",
      "num_reemb_var17_ult1\n",
      "num_reemb_var33_hace3\n",
      "num_reemb_var33_ult1\n",
      "num_sal_var16_ult1\n",
      "num_var43_emit_ult1\n",
      "num_var43_recib_ult1\n",
      "num_trasp_var11_ult1\n",
      "num_trasp_var17_in_hace3\n",
      "num_trasp_var17_in_ult1\n",
      "num_trasp_var17_out_hace3\n",
      "num_trasp_var17_out_ult1\n",
      "num_trasp_var33_in_hace3\n",
      "num_trasp_var33_in_ult1\n",
      "num_trasp_var33_out_hace3\n",
      "num_trasp_var33_out_ult1\n",
      "num_venta_var44_hace3\n",
      "num_venta_var44_ult1\n",
      "num_var45_hace2\n",
      "num_var45_hace3\n",
      "num_var45_ult1\n",
      "num_var45_ult3\n",
      "saldo_var2_ult1\n",
      "saldo_medio_var5_hace2\n",
      "saldo_medio_var5_hace3\n",
      "saldo_medio_var5_ult1\n",
      "saldo_medio_var5_ult3\n",
      "saldo_medio_var8_hace2\n",
      "saldo_medio_var8_hace3\n",
      "saldo_medio_var8_ult1\n",
      "saldo_medio_var8_ult3\n",
      "saldo_medio_var12_hace2\n",
      "saldo_medio_var12_hace3\n",
      "saldo_medio_var12_ult1\n",
      "saldo_medio_var12_ult3\n",
      "saldo_medio_var13_corto_hace2\n",
      "saldo_medio_var13_corto_hace3\n",
      "saldo_medio_var13_corto_ult1\n",
      "saldo_medio_var13_corto_ult3\n",
      "saldo_medio_var13_largo_hace2\n",
      "saldo_medio_var13_largo_hace3\n",
      "saldo_medio_var13_largo_ult1\n",
      "saldo_medio_var13_largo_ult3\n",
      "saldo_medio_var13_medio_hace2\n",
      "saldo_medio_var13_medio_hace3\n",
      "saldo_medio_var13_medio_ult1\n",
      "saldo_medio_var13_medio_ult3\n",
      "saldo_medio_var17_hace2\n",
      "saldo_medio_var17_hace3\n",
      "saldo_medio_var17_ult1\n",
      "saldo_medio_var17_ult3\n",
      "saldo_medio_var29_hace2\n",
      "saldo_medio_var29_hace3\n",
      "saldo_medio_var29_ult1\n",
      "saldo_medio_var29_ult3\n",
      "saldo_medio_var33_hace2\n",
      "saldo_medio_var33_hace3\n",
      "saldo_medio_var33_ult1\n",
      "saldo_medio_var33_ult3\n",
      "saldo_medio_var44_hace2\n",
      "saldo_medio_var44_hace3\n",
      "saldo_medio_var44_ult1\n",
      "saldo_medio_var44_ult3\n",
      "var38\n",
      "TARGET\n"
     ]
    }
   ],
   "source": [
    "# Imprimindo informações basicas do Dataset\n",
    "\n",
    "# Imprimindo shape do Dataset\n",
    "print(\"O shape do Dataset é:\", treino.shape)\n",
    "print('')\n",
    "\n",
    "# Imprimindo o nome das colunas\n",
    "for col in treino.columns:\n",
    "    print(col)"
   ]
  },
  {
   "cell_type": "code",
   "execution_count": 4,
   "metadata": {},
   "outputs": [
    {
     "name": "stdout",
     "output_type": "stream",
     "text": [
      "Verificação concluida, foi encontradas 0 colunas que não são numericas\n"
     ]
    }
   ],
   "source": [
    "# Verificando se todas as variaveis estão no tipo numerico\n",
    "numericas = []\n",
    "for col in treino.columns:\n",
    "    if treino[col].dtype == 'int64' or treino[col].dtype == 'float64':\n",
    "        continue\n",
    "    else:\n",
    "        numericas.append(str(col))\n",
    "print('Verificação concluida, foi encontradas {} colunas que não são numericas'.format(len(numericas)))"
   ]
  },
  {
   "cell_type": "code",
   "execution_count": 5,
   "metadata": {},
   "outputs": [],
   "source": [
    "# Excluindo a variavel ID do Dataset de treino\n",
    "df = treino.drop('ID', axis = 1)"
   ]
  },
  {
   "cell_type": "code",
   "execution_count": 6,
   "metadata": {},
   "outputs": [],
   "source": [
    "# Eliminando a variável ID, do dataset de teste.\n",
    "VarTeste = teste.drop('ID', axis = 1)\n",
    "\n",
    "# Coletando a variavel teste no meu Dataset de teste\n",
    "testeID = teste.ID"
   ]
  },
  {
   "cell_type": "code",
   "execution_count": 7,
   "metadata": {},
   "outputs": [
    {
     "data": {
      "text/plain": [
       "0"
      ]
     },
     "execution_count": 7,
     "metadata": {},
     "output_type": "execute_result"
    }
   ],
   "source": [
    "# Verificando se existe valores vazios no Dataset\n",
    "df.isnull().sum().sum()"
   ]
  },
  {
   "cell_type": "code",
   "execution_count": 8,
   "metadata": {},
   "outputs": [
    {
     "data": {
      "text/plain": [
       "4807"
      ]
     },
     "execution_count": 8,
     "metadata": {},
     "output_type": "execute_result"
    }
   ],
   "source": [
    "# Verificando se existe valores duplicados\n",
    "df.duplicated().sum()"
   ]
  },
  {
   "cell_type": "code",
   "execution_count": 9,
   "metadata": {},
   "outputs": [],
   "source": [
    "# Eliminando os registros duplicados, do dataset de treino.\n",
    "df = df.drop_duplicates()"
   ]
  },
  {
   "cell_type": "code",
   "execution_count": 10,
   "metadata": {},
   "outputs": [
    {
     "name": "stdout",
     "output_type": "stream",
     "text": [
      "Verificação concluida, foi encontradas 34 colunas que seus dados são constantes\n"
     ]
    }
   ],
   "source": [
    "# Verificando quais variaveis possuem dados que variam, ou seja não constantes.\n",
    "# Pois se os dados não mudam, não é possivel localizar um padrão.\n",
    "VarConstante = []\n",
    "for col in df.columns:\n",
    "    if len(df[col].value_counts()) == 1:\n",
    "        VarConstante.append(col)\n",
    "    else:\n",
    "        continue\n",
    "\n",
    "print('Verificação concluida, foi encontradas {} colunas que seus dados são constantes'.format(len(VarConstante)))"
   ]
  },
  {
   "cell_type": "code",
   "execution_count": 11,
   "metadata": {},
   "outputs": [
    {
     "name": "stdout",
     "output_type": "stream",
     "text": [
      "['ind_var2_0', 'ind_var2', 'ind_var27_0', 'ind_var28_0', 'ind_var28', 'ind_var27', 'ind_var41', 'ind_var46_0', 'ind_var46', 'num_var27_0', 'num_var28_0', 'num_var28', 'num_var27', 'num_var41', 'num_var46_0', 'num_var46', 'saldo_var28', 'saldo_var27', 'saldo_var41', 'saldo_var46', 'imp_amort_var18_hace3', 'imp_amort_var34_hace3', 'imp_reemb_var13_hace3', 'imp_reemb_var33_hace3', 'imp_trasp_var17_out_hace3', 'imp_trasp_var33_out_hace3', 'num_var2_0_ult1', 'num_var2_ult1', 'num_reemb_var13_hace3', 'num_reemb_var33_hace3', 'num_trasp_var17_out_hace3', 'num_trasp_var33_out_hace3', 'saldo_var2_ult1', 'saldo_medio_var13_medio_hace3']\n"
     ]
    }
   ],
   "source": [
    "# Imprimindo o nome das colunas que possuem dados constantes\n",
    "print(VarConstante)"
   ]
  },
  {
   "cell_type": "code",
   "execution_count": 12,
   "metadata": {},
   "outputs": [
    {
     "name": "stdout",
     "output_type": "stream",
     "text": [
      "Shape do novo dataset é: (71213, 336)\n"
     ]
    }
   ],
   "source": [
    "# Excluindo essas colunas do dataset\n",
    "df = df.drop(columns = VarConstante)\n",
    "\n",
    "# imprimindo o novo Dataset\n",
    "print('Shape do novo dataset é:', df.shape)"
   ]
  },
  {
   "cell_type": "code",
   "execution_count": 13,
   "metadata": {},
   "outputs": [],
   "source": [
    "# verificando quais variaveis são perfeitamente correlacionadas.\n",
    "# Ou seja correlação = [-1, 1]\n",
    "\n",
    "# Criando a matriz de correlação\n",
    "corr = df.drop('TARGET', axis = 1).corr()\n",
    "\n",
    "# Vou deixar os numeros da matriz da correlação em formato absoluto\n",
    "corr.abs()\n",
    "\n",
    "# Selecionando o triângulo superior, da matriz de correlação.\n",
    "upper = corr.where(np.triu(np.ones(corr.shape), k = 1).astype(np.bool))\n",
    "\n",
    "# Encontrando os índices das variáveis perfeitamente correlacionadas (correlação igual a 1).\n",
    "per_corr = [column for column in upper.columns if any(upper[column] == 1)]"
   ]
  },
  {
   "cell_type": "code",
   "execution_count": 14,
   "metadata": {},
   "outputs": [
    {
     "data": {
      "text/plain": [
       "['ind_var13_medio',\n",
       " 'ind_var18',\n",
       " 'ind_var26',\n",
       " 'ind_var25',\n",
       " 'ind_var29_0',\n",
       " 'ind_var29',\n",
       " 'ind_var32',\n",
       " 'ind_var34',\n",
       " 'ind_var37',\n",
       " 'ind_var39',\n",
       " 'num_var13_medio',\n",
       " 'num_var18',\n",
       " 'num_var26',\n",
       " 'num_var25',\n",
       " 'num_var29_0',\n",
       " 'num_var29',\n",
       " 'num_var32',\n",
       " 'num_var34',\n",
       " 'num_var37',\n",
       " 'num_var39',\n",
       " 'saldo_var29',\n",
       " 'delta_num_aport_var17_1y3',\n",
       " 'delta_num_aport_var33_1y3',\n",
       " 'delta_num_reemb_var13_1y3',\n",
       " 'delta_num_reemb_var17_1y3',\n",
       " 'delta_num_reemb_var33_1y3',\n",
       " 'delta_num_trasp_var17_in_1y3',\n",
       " 'delta_num_trasp_var17_out_1y3',\n",
       " 'delta_num_trasp_var33_in_1y3',\n",
       " 'delta_num_trasp_var33_out_1y3',\n",
       " 'num_meses_var13_medio_ult3',\n",
       " 'saldo_medio_var13_medio_ult1']"
      ]
     },
     "execution_count": 14,
     "metadata": {},
     "output_type": "execute_result"
    }
   ],
   "source": [
    "# Verificando as variaveis perfeitamente correlacionadas\n",
    "per_corr"
   ]
  },
  {
   "cell_type": "code",
   "execution_count": 15,
   "metadata": {},
   "outputs": [
    {
     "name": "stdout",
     "output_type": "stream",
     "text": [
      "Shape do novo dataset é: (71213, 304)\n"
     ]
    }
   ],
   "source": [
    "# Excluindo essas colunas do dataset\n",
    "df = df.drop(columns = per_corr)\n",
    "\n",
    "# imprimindo o novo Dataset\n",
    "print('Shape do novo dataset é:', df.shape)"
   ]
  },
  {
   "cell_type": "code",
   "execution_count": 16,
   "metadata": {},
   "outputs": [],
   "source": [
    "# O threshold = 0.01, indica que os recursos com uma variância do conjunto de treinamento inferior a este limite, \n",
    "# serão removidos (são recursos quasi-constantes).\n",
    "vt = VarianceThreshold(threshold = 0.01)  \n",
    "\n",
    "# Treinando o modelo, para encontrar as variáveis com baixa variância.\n",
    "vt.fit(df.drop(labels = ['TARGET'], axis = 1)) \n",
    "\n",
    "# Capturando o nome das variáveis, que não são quasi-constantes, no dataset de treino.\n",
    "constantFeatures = df.drop(labels = ['TARGET'], axis = 1).columns[vt.get_support()]\n",
    "\n",
    "# Capturando o nome das variáveis, que são quasi-constantes, no dataset de treino.\n",
    "quasiConstantFeatures = [f for f in df.drop(labels = ['TARGET'], axis = 1).columns if f not in constantFeatures]"
   ]
  },
  {
   "cell_type": "code",
   "execution_count": 17,
   "metadata": {},
   "outputs": [
    {
     "name": "stdout",
     "output_type": "stream",
     "text": [
      "['ind_var1', 'ind_var6_0', 'ind_var6', 'ind_var13_medio_0', 'ind_var14', 'ind_var17_0', 'ind_var17', 'ind_var18_0', 'ind_var19', 'ind_var20_0', 'ind_var20', 'ind_var30_0', 'ind_var31_0', 'ind_var31', 'ind_var32_cte', 'ind_var32_0', 'ind_var33_0', 'ind_var33', 'ind_var34_0', 'ind_var40', 'ind_var44_0', 'ind_var44', 'num_var6_0', 'num_var6', 'num_var13_medio_0', 'num_var18_0', 'num_var33', 'num_var34_0', 'ind_var7_emit_ult1', 'ind_var7_recib_ult1', 'num_aport_var33_hace3', 'num_aport_var33_ult1', 'num_var7_emit_ult1', 'num_meses_var17_ult3', 'num_meses_var29_ult3', 'num_meses_var33_ult3', 'num_meses_var44_ult3', 'num_reemb_var13_ult1', 'num_reemb_var17_hace3', 'num_reemb_var33_ult1', 'num_trasp_var17_in_hace3', 'num_trasp_var17_in_ult1', 'num_trasp_var17_out_ult1', 'num_trasp_var33_in_hace3', 'num_trasp_var33_in_ult1', 'num_trasp_var33_out_ult1', 'num_venta_var44_hace3']\n"
     ]
    }
   ],
   "source": [
    "print(quasiConstantFeatures)"
   ]
  },
  {
   "cell_type": "code",
   "execution_count": 18,
   "metadata": {},
   "outputs": [
    {
     "name": "stdout",
     "output_type": "stream",
     "text": [
      "Shape do novo dataset é: (71213, 257)\n"
     ]
    }
   ],
   "source": [
    "# Eliminando as variáveis quasi-constantes, do dataset de treino.\n",
    "df = df.drop(quasiConstantFeatures, axis = 1)\n",
    "## Verificando a variavel target\n",
    "# imprimindo o novo Dataset\n",
    "print('Shape do novo dataset é:', df.shape)"
   ]
  },
  {
   "cell_type": "markdown",
   "metadata": {},
   "source": [
    "## Verificando a variavel target"
   ]
  },
  {
   "cell_type": "code",
   "execution_count": 19,
   "metadata": {},
   "outputs": [
    {
     "data": {
      "image/png": "[encoded data removed]",
      "text/plain": [
       "<Figure size 720x576 with 1 Axes>"
      ]
     },
     "metadata": {},
     "output_type": "display_data"
    }
   ],
   "source": [
    "grupos = ['Satisfeito', 'Insatisfeito']\n",
    "valores = df['TARGET'].value_counts().values\n",
    "\n",
    "# Construção do gráfico\n",
    "plt.style.use(\"Solarize_Light2\")\n",
    "plt.figure(figsize = [10, 8])\n",
    "plt.bar(grupos, valores)\n",
    "plt.title('N° de Clientes Satisfeitos/Insatisfeitos no Santander')\n",
    "plt.ylabel('N° de Clientes')\n",
    "plt.xlabel('Satisfeito/Insatisfeito')\n",
    "plt.show()"
   ]
  },
  {
   "cell_type": "code",
   "execution_count": 20,
   "metadata": {
    "scrolled": false
   },
   "outputs": [
    {
     "data": {
      "image/png": "[encoded data removed]",
      "text/plain": [
       "<Figure size 720x576 with 1 Axes>"
      ]
     },
     "metadata": {},
     "output_type": "display_data"
    }
   ],
   "source": [
    "# define o nível de separabilidade entre as partes, ordem do vetor representa as partes\n",
    "explode = (0, 0.3) \n",
    "\n",
    "# define o formato de visualização com saída em 1.1%%, sombras e a separação entre as partes\n",
    "plt.figure(figsize = [10, 8])\n",
    "plt.pie(valores, labels=grupos, autopct='%1.2f%%', shadow=True, explode=explode)\n",
    "\n",
    "# inseri a legenda e a localização da legenda.\n",
    "plt.legend(grupos, loc=3)\n",
    "plt.title('Nivel de Satisfação dos Clientes')\n",
    "plt.show()"
   ]
  },
  {
   "cell_type": "markdown",
   "metadata": {},
   "source": [
    "## Transformações nos Dados"
   ]
  },
  {
   "cell_type": "code",
   "execution_count": 21,
   "metadata": {},
   "outputs": [],
   "source": [
    "# Separando a variável target, das features do conjunto de dados.\n",
    "VarTreino, targetTreino = df.drop('TARGET', axis = 1), np.array(df.TARGET).ravel()"
   ]
  },
  {
   "cell_type": "markdown",
   "metadata": {},
   "source": [
    "### Realizando normalização nos Dados"
   ]
  },
  {
   "cell_type": "code",
   "execution_count": 22,
   "metadata": {},
   "outputs": [
    {
     "data": {
      "text/html": [
       "<div>\n",
       "<style scoped>\n",
       "    .dataframe tbody tr th:only-of-type {\n",
       "        vertical-align: middle;\n",
       "    }\n",
       "\n",
       "    .dataframe tbody tr th {\n",
       "        vertical-align: top;\n",
       "    }\n",
       "\n",
       "    .dataframe thead th {\n",
       "        text-align: right;\n",
       "    }\n",
       "</style>\n",
       "<table border=\"1\" class=\"dataframe\">\n",
       "  <thead>\n",
       "    <tr style=\"text-align: right;\">\n",
       "      <th></th>\n",
       "      <th>var3</th>\n",
       "      <th>var15</th>\n",
       "      <th>imp_ent_var16_ult1</th>\n",
       "      <th>imp_op_var39_comer_ult1</th>\n",
       "      <th>imp_op_var39_comer_ult3</th>\n",
       "      <th>imp_op_var40_comer_ult1</th>\n",
       "      <th>imp_op_var40_comer_ult3</th>\n",
       "      <th>imp_op_var40_efect_ult1</th>\n",
       "      <th>imp_op_var40_efect_ult3</th>\n",
       "      <th>imp_op_var40_ult1</th>\n",
       "      <th>...</th>\n",
       "      <th>saldo_medio_var29_ult3</th>\n",
       "      <th>saldo_medio_var33_hace2</th>\n",
       "      <th>saldo_medio_var33_hace3</th>\n",
       "      <th>saldo_medio_var33_ult1</th>\n",
       "      <th>saldo_medio_var33_ult3</th>\n",
       "      <th>saldo_medio_var44_hace2</th>\n",
       "      <th>saldo_medio_var44_hace3</th>\n",
       "      <th>saldo_medio_var44_ult1</th>\n",
       "      <th>saldo_medio_var44_ult3</th>\n",
       "      <th>var38</th>\n",
       "    </tr>\n",
       "  </thead>\n",
       "  <tbody>\n",
       "    <tr>\n",
       "      <th>0</th>\n",
       "      <td>0.999764</td>\n",
       "      <td>0.18</td>\n",
       "      <td>0.0</td>\n",
       "      <td>0.00000</td>\n",
       "      <td>0.000000</td>\n",
       "      <td>0.0</td>\n",
       "      <td>0.0</td>\n",
       "      <td>0.0</td>\n",
       "      <td>0.0</td>\n",
       "      <td>0.0</td>\n",
       "      <td>...</td>\n",
       "      <td>0.0</td>\n",
       "      <td>0.0</td>\n",
       "      <td>0.0</td>\n",
       "      <td>0.0</td>\n",
       "      <td>0.0</td>\n",
       "      <td>0.0</td>\n",
       "      <td>0.0</td>\n",
       "      <td>0.0</td>\n",
       "      <td>0.0</td>\n",
       "      <td>0.001545</td>\n",
       "    </tr>\n",
       "    <tr>\n",
       "      <th>1</th>\n",
       "      <td>0.999764</td>\n",
       "      <td>0.29</td>\n",
       "      <td>0.0</td>\n",
       "      <td>0.00000</td>\n",
       "      <td>0.000000</td>\n",
       "      <td>0.0</td>\n",
       "      <td>0.0</td>\n",
       "      <td>0.0</td>\n",
       "      <td>0.0</td>\n",
       "      <td>0.0</td>\n",
       "      <td>...</td>\n",
       "      <td>0.0</td>\n",
       "      <td>0.0</td>\n",
       "      <td>0.0</td>\n",
       "      <td>0.0</td>\n",
       "      <td>0.0</td>\n",
       "      <td>0.0</td>\n",
       "      <td>0.0</td>\n",
       "      <td>0.0</td>\n",
       "      <td>0.0</td>\n",
       "      <td>0.002003</td>\n",
       "    </tr>\n",
       "    <tr>\n",
       "      <th>2</th>\n",
       "      <td>0.999764</td>\n",
       "      <td>0.18</td>\n",
       "      <td>0.0</td>\n",
       "      <td>0.00000</td>\n",
       "      <td>0.000000</td>\n",
       "      <td>0.0</td>\n",
       "      <td>0.0</td>\n",
       "      <td>0.0</td>\n",
       "      <td>0.0</td>\n",
       "      <td>0.0</td>\n",
       "      <td>...</td>\n",
       "      <td>0.0</td>\n",
       "      <td>0.0</td>\n",
       "      <td>0.0</td>\n",
       "      <td>0.0</td>\n",
       "      <td>0.0</td>\n",
       "      <td>0.0</td>\n",
       "      <td>0.0</td>\n",
       "      <td>0.0</td>\n",
       "      <td>0.0</td>\n",
       "      <td>0.002822</td>\n",
       "    </tr>\n",
       "    <tr>\n",
       "      <th>3</th>\n",
       "      <td>0.999764</td>\n",
       "      <td>0.32</td>\n",
       "      <td>0.0</td>\n",
       "      <td>0.01513</td>\n",
       "      <td>0.009275</td>\n",
       "      <td>0.0</td>\n",
       "      <td>0.0</td>\n",
       "      <td>0.0</td>\n",
       "      <td>0.0</td>\n",
       "      <td>0.0</td>\n",
       "      <td>...</td>\n",
       "      <td>0.0</td>\n",
       "      <td>0.0</td>\n",
       "      <td>0.0</td>\n",
       "      <td>0.0</td>\n",
       "      <td>0.0</td>\n",
       "      <td>0.0</td>\n",
       "      <td>0.0</td>\n",
       "      <td>0.0</td>\n",
       "      <td>0.0</td>\n",
       "      <td>0.002671</td>\n",
       "    </tr>\n",
       "    <tr>\n",
       "      <th>4</th>\n",
       "      <td>0.999764</td>\n",
       "      <td>0.34</td>\n",
       "      <td>0.0</td>\n",
       "      <td>0.00000</td>\n",
       "      <td>0.000000</td>\n",
       "      <td>0.0</td>\n",
       "      <td>0.0</td>\n",
       "      <td>0.0</td>\n",
       "      <td>0.0</td>\n",
       "      <td>0.0</td>\n",
       "      <td>...</td>\n",
       "      <td>0.0</td>\n",
       "      <td>0.0</td>\n",
       "      <td>0.0</td>\n",
       "      <td>0.0</td>\n",
       "      <td>0.0</td>\n",
       "      <td>0.0</td>\n",
       "      <td>0.0</td>\n",
       "      <td>0.0</td>\n",
       "      <td>0.0</td>\n",
       "      <td>0.005091</td>\n",
       "    </tr>\n",
       "  </tbody>\n",
       "</table>\n",
       "<p>5 rows × 256 columns</p>\n",
       "</div>"
      ],
      "text/plain": [
       "       var3  var15  imp_ent_var16_ult1  imp_op_var39_comer_ult1  \\\n",
       "0  0.999764   0.18                 0.0                  0.00000   \n",
       "1  0.999764   0.29                 0.0                  0.00000   \n",
       "2  0.999764   0.18                 0.0                  0.00000   \n",
       "3  0.999764   0.32                 0.0                  0.01513   \n",
       "4  0.999764   0.34                 0.0                  0.00000   \n",
       "\n",
       "   imp_op_var39_comer_ult3  imp_op_var40_comer_ult1  imp_op_var40_comer_ult3  \\\n",
       "0                 0.000000                      0.0                      0.0   \n",
       "1                 0.000000                      0.0                      0.0   \n",
       "2                 0.000000                      0.0                      0.0   \n",
       "3                 0.009275                      0.0                      0.0   \n",
       "4                 0.000000                      0.0                      0.0   \n",
       "\n",
       "   imp_op_var40_efect_ult1  imp_op_var40_efect_ult3  imp_op_var40_ult1  ...  \\\n",
       "0                      0.0                      0.0                0.0  ...   \n",
       "1                      0.0                      0.0                0.0  ...   \n",
       "2                      0.0                      0.0                0.0  ...   \n",
       "3                      0.0                      0.0                0.0  ...   \n",
       "4                      0.0                      0.0                0.0  ...   \n",
       "\n",
       "   saldo_medio_var29_ult3  saldo_medio_var33_hace2  saldo_medio_var33_hace3  \\\n",
       "0                     0.0                      0.0                      0.0   \n",
       "1                     0.0                      0.0                      0.0   \n",
       "2                     0.0                      0.0                      0.0   \n",
       "3                     0.0                      0.0                      0.0   \n",
       "4                     0.0                      0.0                      0.0   \n",
       "\n",
       "   saldo_medio_var33_ult1  saldo_medio_var33_ult3  saldo_medio_var44_hace2  \\\n",
       "0                     0.0                     0.0                      0.0   \n",
       "1                     0.0                     0.0                      0.0   \n",
       "2                     0.0                     0.0                      0.0   \n",
       "3                     0.0                     0.0                      0.0   \n",
       "4                     0.0                     0.0                      0.0   \n",
       "\n",
       "   saldo_medio_var44_hace3  saldo_medio_var44_ult1  saldo_medio_var44_ult3  \\\n",
       "0                      0.0                     0.0                     0.0   \n",
       "1                      0.0                     0.0                     0.0   \n",
       "2                      0.0                     0.0                     0.0   \n",
       "3                      0.0                     0.0                     0.0   \n",
       "4                      0.0                     0.0                     0.0   \n",
       "\n",
       "      var38  \n",
       "0  0.001545  \n",
       "1  0.002003  \n",
       "2  0.002822  \n",
       "3  0.002671  \n",
       "4  0.005091  \n",
       "\n",
       "[5 rows x 256 columns]"
      ]
     },
     "execution_count": 22,
     "metadata": {},
     "output_type": "execute_result"
    }
   ],
   "source": [
    "scaler = MinMaxScaler()\n",
    "\n",
    "# Aplicando a escala no Dataset\n",
    "VarTreinoNormalizadas = scaler.fit_transform(VarTreino)\n",
    "\n",
    "# Criando um DataFrame com os resultados obtidos.\n",
    "VarTreinoNormalizadas = pd.DataFrame(data = VarTreinoNormalizadas, columns = VarTreino.columns)\n",
    "\n",
    "VarTreinoNormalizadas.head()"
   ]
  },
  {
   "cell_type": "markdown",
   "metadata": {},
   "source": [
    "### Realizando Padronização nos Dados"
   ]
  },
  {
   "cell_type": "code",
   "execution_count": 23,
   "metadata": {},
   "outputs": [
    {
     "data": {
      "text/html": [
       "<div>\n",
       "<style scoped>\n",
       "    .dataframe tbody tr th:only-of-type {\n",
       "        vertical-align: middle;\n",
       "    }\n",
       "\n",
       "    .dataframe tbody tr th {\n",
       "        vertical-align: top;\n",
       "    }\n",
       "\n",
       "    .dataframe thead th {\n",
       "        text-align: right;\n",
       "    }\n",
       "</style>\n",
       "<table border=\"1\" class=\"dataframe\">\n",
       "  <thead>\n",
       "    <tr style=\"text-align: right;\">\n",
       "      <th></th>\n",
       "      <th>var3</th>\n",
       "      <th>var15</th>\n",
       "      <th>imp_ent_var16_ult1</th>\n",
       "      <th>imp_op_var39_comer_ult1</th>\n",
       "      <th>imp_op_var39_comer_ult3</th>\n",
       "      <th>imp_op_var40_comer_ult1</th>\n",
       "      <th>imp_op_var40_comer_ult3</th>\n",
       "      <th>imp_op_var40_efect_ult1</th>\n",
       "      <th>imp_op_var40_efect_ult3</th>\n",
       "      <th>imp_op_var40_ult1</th>\n",
       "      <th>...</th>\n",
       "      <th>saldo_medio_var29_ult3</th>\n",
       "      <th>saldo_medio_var33_hace2</th>\n",
       "      <th>saldo_medio_var33_hace3</th>\n",
       "      <th>saldo_medio_var33_ult1</th>\n",
       "      <th>saldo_medio_var33_ult3</th>\n",
       "      <th>saldo_medio_var44_hace2</th>\n",
       "      <th>saldo_medio_var44_hace3</th>\n",
       "      <th>saldo_medio_var44_ult1</th>\n",
       "      <th>saldo_medio_var44_ult3</th>\n",
       "      <th>var38</th>\n",
       "    </tr>\n",
       "  </thead>\n",
       "  <tbody>\n",
       "    <tr>\n",
       "      <th>0</th>\n",
       "      <td>0.038772</td>\n",
       "      <td>-0.805834</td>\n",
       "      <td>-0.055166</td>\n",
       "      <td>-0.220682</td>\n",
       "      <td>-0.226444</td>\n",
       "      <td>-0.039477</td>\n",
       "      <td>-0.043503</td>\n",
       "      <td>-0.013941</td>\n",
       "      <td>-0.016054</td>\n",
       "      <td>-0.03428</td>\n",
       "      <td>...</td>\n",
       "      <td>-0.006049</td>\n",
       "      <td>-0.017986</td>\n",
       "      <td>-0.012377</td>\n",
       "      <td>-0.016115</td>\n",
       "      <td>-0.016856</td>\n",
       "      <td>-0.01617</td>\n",
       "      <td>-0.012994</td>\n",
       "      <td>-0.019442</td>\n",
       "      <td>-0.020506</td>\n",
       "      <td>-0.414017</td>\n",
       "    </tr>\n",
       "    <tr>\n",
       "      <th>1</th>\n",
       "      <td>0.038772</td>\n",
       "      <td>0.033327</td>\n",
       "      <td>-0.055166</td>\n",
       "      <td>-0.220682</td>\n",
       "      <td>-0.226444</td>\n",
       "      <td>-0.039477</td>\n",
       "      <td>-0.043503</td>\n",
       "      <td>-0.013941</td>\n",
       "      <td>-0.016054</td>\n",
       "      <td>-0.03428</td>\n",
       "      <td>...</td>\n",
       "      <td>-0.006049</td>\n",
       "      <td>-0.017986</td>\n",
       "      <td>-0.012377</td>\n",
       "      <td>-0.016115</td>\n",
       "      <td>-0.016856</td>\n",
       "      <td>-0.01617</td>\n",
       "      <td>-0.012994</td>\n",
       "      <td>-0.019442</td>\n",
       "      <td>-0.020506</td>\n",
       "      <td>-0.360503</td>\n",
       "    </tr>\n",
       "    <tr>\n",
       "      <th>2</th>\n",
       "      <td>0.038772</td>\n",
       "      <td>-0.805834</td>\n",
       "      <td>-0.055166</td>\n",
       "      <td>-0.220682</td>\n",
       "      <td>-0.226444</td>\n",
       "      <td>-0.039477</td>\n",
       "      <td>-0.043503</td>\n",
       "      <td>-0.013941</td>\n",
       "      <td>-0.016054</td>\n",
       "      <td>-0.03428</td>\n",
       "      <td>...</td>\n",
       "      <td>-0.006049</td>\n",
       "      <td>-0.017986</td>\n",
       "      <td>-0.012377</td>\n",
       "      <td>-0.016115</td>\n",
       "      <td>-0.016856</td>\n",
       "      <td>-0.01617</td>\n",
       "      <td>-0.012994</td>\n",
       "      <td>-0.019442</td>\n",
       "      <td>-0.020506</td>\n",
       "      <td>-0.264577</td>\n",
       "    </tr>\n",
       "    <tr>\n",
       "      <th>3</th>\n",
       "      <td>0.038772</td>\n",
       "      <td>0.262189</td>\n",
       "      <td>-0.055166</td>\n",
       "      <td>0.336397</td>\n",
       "      <td>0.119616</td>\n",
       "      <td>-0.039477</td>\n",
       "      <td>-0.043503</td>\n",
       "      <td>-0.013941</td>\n",
       "      <td>-0.016054</td>\n",
       "      <td>-0.03428</td>\n",
       "      <td>...</td>\n",
       "      <td>-0.006049</td>\n",
       "      <td>-0.017986</td>\n",
       "      <td>-0.012377</td>\n",
       "      <td>-0.016115</td>\n",
       "      <td>-0.016856</td>\n",
       "      <td>-0.01617</td>\n",
       "      <td>-0.012994</td>\n",
       "      <td>-0.019442</td>\n",
       "      <td>-0.020506</td>\n",
       "      <td>-0.282246</td>\n",
       "    </tr>\n",
       "    <tr>\n",
       "      <th>4</th>\n",
       "      <td>0.038772</td>\n",
       "      <td>0.414763</td>\n",
       "      <td>-0.055166</td>\n",
       "      <td>-0.220682</td>\n",
       "      <td>-0.226444</td>\n",
       "      <td>-0.039477</td>\n",
       "      <td>-0.043503</td>\n",
       "      <td>-0.013941</td>\n",
       "      <td>-0.016054</td>\n",
       "      <td>-0.03428</td>\n",
       "      <td>...</td>\n",
       "      <td>-0.006049</td>\n",
       "      <td>-0.017986</td>\n",
       "      <td>-0.012377</td>\n",
       "      <td>-0.016115</td>\n",
       "      <td>-0.016856</td>\n",
       "      <td>-0.01617</td>\n",
       "      <td>-0.012994</td>\n",
       "      <td>-0.019442</td>\n",
       "      <td>-0.020506</td>\n",
       "      <td>0.000940</td>\n",
       "    </tr>\n",
       "  </tbody>\n",
       "</table>\n",
       "<p>5 rows × 256 columns</p>\n",
       "</div>"
      ],
      "text/plain": [
       "       var3     var15  imp_ent_var16_ult1  imp_op_var39_comer_ult1  \\\n",
       "0  0.038772 -0.805834           -0.055166                -0.220682   \n",
       "1  0.038772  0.033327           -0.055166                -0.220682   \n",
       "2  0.038772 -0.805834           -0.055166                -0.220682   \n",
       "3  0.038772  0.262189           -0.055166                 0.336397   \n",
       "4  0.038772  0.414763           -0.055166                -0.220682   \n",
       "\n",
       "   imp_op_var39_comer_ult3  imp_op_var40_comer_ult1  imp_op_var40_comer_ult3  \\\n",
       "0                -0.226444                -0.039477                -0.043503   \n",
       "1                -0.226444                -0.039477                -0.043503   \n",
       "2                -0.226444                -0.039477                -0.043503   \n",
       "3                 0.119616                -0.039477                -0.043503   \n",
       "4                -0.226444                -0.039477                -0.043503   \n",
       "\n",
       "   imp_op_var40_efect_ult1  imp_op_var40_efect_ult3  imp_op_var40_ult1  ...  \\\n",
       "0                -0.013941                -0.016054           -0.03428  ...   \n",
       "1                -0.013941                -0.016054           -0.03428  ...   \n",
       "2                -0.013941                -0.016054           -0.03428  ...   \n",
       "3                -0.013941                -0.016054           -0.03428  ...   \n",
       "4                -0.013941                -0.016054           -0.03428  ...   \n",
       "\n",
       "   saldo_medio_var29_ult3  saldo_medio_var33_hace2  saldo_medio_var33_hace3  \\\n",
       "0               -0.006049                -0.017986                -0.012377   \n",
       "1               -0.006049                -0.017986                -0.012377   \n",
       "2               -0.006049                -0.017986                -0.012377   \n",
       "3               -0.006049                -0.017986                -0.012377   \n",
       "4               -0.006049                -0.017986                -0.012377   \n",
       "\n",
       "   saldo_medio_var33_ult1  saldo_medio_var33_ult3  saldo_medio_var44_hace2  \\\n",
       "0               -0.016115               -0.016856                 -0.01617   \n",
       "1               -0.016115               -0.016856                 -0.01617   \n",
       "2               -0.016115               -0.016856                 -0.01617   \n",
       "3               -0.016115               -0.016856                 -0.01617   \n",
       "4               -0.016115               -0.016856                 -0.01617   \n",
       "\n",
       "   saldo_medio_var44_hace3  saldo_medio_var44_ult1  saldo_medio_var44_ult3  \\\n",
       "0                -0.012994               -0.019442               -0.020506   \n",
       "1                -0.012994               -0.019442               -0.020506   \n",
       "2                -0.012994               -0.019442               -0.020506   \n",
       "3                -0.012994               -0.019442               -0.020506   \n",
       "4                -0.012994               -0.019442               -0.020506   \n",
       "\n",
       "      var38  \n",
       "0 -0.414017  \n",
       "1 -0.360503  \n",
       "2 -0.264577  \n",
       "3 -0.282246  \n",
       "4  0.000940  \n",
       "\n",
       "[5 rows x 256 columns]"
      ]
     },
     "execution_count": 23,
     "metadata": {},
     "output_type": "execute_result"
    }
   ],
   "source": [
    "Standard = StandardScaler()\n",
    "\n",
    "# Aplicando a escala no Dataset\n",
    "VarTreinoPadronizadas = Standard.fit_transform(VarTreino)\n",
    "\n",
    "# Criando um DataFrame com os resultados obtidos.\n",
    "VarTreinoPadronizadas = pd.DataFrame(data = VarTreinoPadronizadas, columns = VarTreino.columns)\n",
    "\n",
    "VarTreinoPadronizadas.head()"
   ]
  },
  {
   "cell_type": "markdown",
   "metadata": {},
   "source": [
    "# Feature Selection"
   ]
  },
  {
   "cell_type": "markdown",
   "metadata": {},
   "source": [
    "###  Eliminação Recursiva de Atributos"
   ]
  },
  {
   "cell_type": "markdown",
   "metadata": {},
   "source": [
    "Esta é uma técnica para seleção de atributos, que recursivamente remove os atributos e constrói o modelo com os atributos remanescentes. Esta técnica utiliza a acurácia do modelo para identificar os atributos que mais contribuem para prever a variável alvo. Em inglês esta técnia é chamada Recursive Feature Elimination (RFE)."
   ]
  },
  {
   "cell_type": "code",
   "execution_count": 24,
   "metadata": {},
   "outputs": [],
   "source": [
    "# Para a utilização correta da ferramenta, irei utilizar os dados NORMALIZADOS\n",
    "X = VarTreinoNormalizadas\n",
    "Y = targetTreino\n",
    "\n",
    "# Criando a instancia da ferramenta para selecionar as top 5 variaveis\n",
    "rfe = RFE (estimator= xgb.XGBClassifier(), \n",
    "    n_features_to_select = 5)\n",
    "\n",
    "# Realizando o treinamento\n",
    "rfeFit = rfe.fit (X = X, \n",
    "                  y = Y)"
   ]
  },
  {
   "cell_type": "code",
   "execution_count": 25,
   "metadata": {},
   "outputs": [
    {
     "data": {
      "text/plain": [
       "Index(['var15', 'ind_var26_cte', 'num_var42_0', 'saldo_var30',\n",
       "       'saldo_medio_var5_hace2'],\n",
       "      dtype='object')"
      ]
     },
     "execution_count": 25,
     "metadata": {},
     "output_type": "execute_result"
    }
   ],
   "source": [
    "# Capturando o nome das melhores variáveis preditoras.\n",
    "rfeVAR = X.columns[rfeFit.support_]\n",
    "\n",
    "# Exibindo o nome das melhores variáveis preditoras.\n",
    "rfeVAR"
   ]
  },
  {
   "cell_type": "markdown",
   "metadata": {},
   "source": [
    "# Analise Preditiva / Avaliação de Perfomance"
   ]
  },
  {
   "cell_type": "markdown",
   "metadata": {},
   "source": [
    "### Dados sem Transformação"
   ]
  },
  {
   "cell_type": "markdown",
   "metadata": {},
   "source": [
    "#### Separação dos Dados Entre Treino e Teste"
   ]
  },
  {
   "cell_type": "code",
   "execution_count": 26,
   "metadata": {},
   "outputs": [],
   "source": [
    "# Carregando os dados\n",
    "array = VarTreino[rfeVAR].values\n",
    "\n",
    "# Separando o array em componentes de input e output\n",
    "X = array[:,0:5]\n",
    "Y = targetTreino\n",
    "\n",
    "# Definindo os valores para os folds\n",
    "num_folds = 10\n",
    "seed = 7\n",
    "\n",
    "# Separando os dados em folds\n",
    "kfold = KFold(num_folds, True, random_state = seed)"
   ]
  },
  {
   "cell_type": "markdown",
   "metadata": {},
   "source": [
    "##### Realizando os testes com diversos modelos classificativos"
   ]
  },
  {
   "cell_type": "code",
   "execution_count": 27,
   "metadata": {},
   "outputs": [
    {
     "name": "stdout",
     "output_type": "stream",
     "text": [
      "LR: 0.955401 (0.002398)\n",
      "LDA: 0.960401 (0.002434)\n",
      "NB: 0.959319 (0.002674)\n",
      "KNN: 0.956061 (0.002888)\n",
      "CART: 0.949602 (0.002751)\n",
      "SVM: 0.960471 (0.002493)\n",
      "XGBoost: 0.960288 (0.002550)\n"
     ]
    },
    {
     "data": {
      "image/png": "[encoded data removed]",
      "text/plain": [
       "<Figure size 432x288 with 1 Axes>"
      ]
     },
     "metadata": {},
     "output_type": "display_data"
    }
   ],
   "source": [
    "# Preparando a lista de modelos\n",
    "modelos = []\n",
    "modelos.append(('LR', LogisticRegression()))\n",
    "modelos.append(('LDA', LinearDiscriminantAnalysis()))\n",
    "modelos.append(('NB', GaussianNB()))\n",
    "modelos.append(('KNN', KNeighborsClassifier()))\n",
    "modelos.append(('CART', DecisionTreeClassifier()))\n",
    "modelos.append(('SVM', SVC()))\n",
    "modelos.append(('XGBoost', xgb.XGBClassifier()))\n",
    "\n",
    "# Avaliando cada modelo em um loop\n",
    "resultados = []\n",
    "nomes = []\n",
    "\n",
    "for nome, modelo in modelos:\n",
    "    kfold = KFold(n_splits = num_folds, random_state = seed)\n",
    "    cv_results = cross_val_score(modelo, X, Y, cv = kfold, scoring = 'accuracy')\n",
    "    resultados.append(cv_results)\n",
    "    nomes.append(nome)\n",
    "    msg = \"%s: %f (%f)\" % (nome, cv_results.mean(), cv_results.std())\n",
    "    print(msg)\n",
    "\n",
    "# Boxplot para comparar os algoritmos\n",
    "fig = plt.figure()\n",
    "fig.suptitle('Comparação de Algoritmos de Classificação')\n",
    "ax = fig.add_subplot(111)\n",
    "plt.boxplot(resultados)\n",
    "ax.set_xticklabels(nomes)\n",
    "plt.show()"
   ]
  },
  {
   "cell_type": "markdown",
   "metadata": {},
   "source": [
    "Sem realizar nenhuma transformação nos dados, os melhores algoritimos foram os:\n",
    "###### SVC e XGB"
   ]
  },
  {
   "cell_type": "markdown",
   "metadata": {},
   "source": [
    "### Dados Normalizados"
   ]
  },
  {
   "cell_type": "markdown",
   "metadata": {},
   "source": [
    "#### Separação dos Dados Entre Treino e Teste"
   ]
  },
  {
   "cell_type": "code",
   "execution_count": 28,
   "metadata": {},
   "outputs": [],
   "source": [
    "# Carregando os dados\n",
    "array = VarTreinoNormalizadas[rfeVAR].values\n",
    "\n",
    "# Separando o array em componentes de input e output\n",
    "X = array[:,0:5]\n",
    "Y = targetTreino\n",
    "\n",
    "# Definindo os valores para os folds\n",
    "num_folds = 10\n",
    "seed = 7\n",
    "\n",
    "# Separando os dados em folds\n",
    "kfold = KFold(num_folds, True, random_state = seed)"
   ]
  },
  {
   "cell_type": "markdown",
   "metadata": {},
   "source": [
    "##### Realizando os testes com diversos modelos classificativos"
   ]
  },
  {
   "cell_type": "code",
   "execution_count": 29,
   "metadata": {},
   "outputs": [
    {
     "name": "stdout",
     "output_type": "stream",
     "text": [
      "LR: 0.960471 (0.002493)\n",
      "LDA: 0.960401 (0.002434)\n",
      "NB: 0.910101 (0.009387)\n",
      "KNN: 0.956778 (0.003445)\n",
      "CART: 0.949363 (0.002386)\n",
      "SVM: 0.960471 (0.002493)\n",
      "XGBoost: 0.960288 (0.002550)\n"
     ]
    },
    {
     "data": {
      "image/png": "[encoded data removed]",
      "text/plain": [
       "<Figure size 432x288 with 1 Axes>"
      ]
     },
     "metadata": {},
     "output_type": "display_data"
    }
   ],
   "source": [
    "# Preparando a lista de modelos\n",
    "modelos = []\n",
    "modelos.append(('LR', LogisticRegression()))\n",
    "modelos.append(('LDA', LinearDiscriminantAnalysis()))\n",
    "modelos.append(('NB', GaussianNB()))\n",
    "modelos.append(('KNN', KNeighborsClassifier()))\n",
    "modelos.append(('CART', DecisionTreeClassifier()))\n",
    "modelos.append(('SVM', SVC()))\n",
    "modelos.append(('XGBoost', xgb.XGBClassifier()))\n",
    "\n",
    "# Avaliando cada modelo em um loop\n",
    "resultados = []\n",
    "nomes = []\n",
    "\n",
    "for nome, modelo in modelos:\n",
    "    kfold = KFold(n_splits = num_folds, random_state = seed)\n",
    "    cv_results = cross_val_score(modelo, X, Y, cv = kfold, scoring = 'accuracy')\n",
    "    resultados.append(cv_results)\n",
    "    nomes.append(nome)\n",
    "    msg = \"%s: %f (%f)\" % (nome, cv_results.mean(), cv_results.std())\n",
    "    print(msg)\n",
    "\n",
    "# Boxplot para comparar os algoritmos\n",
    "fig = plt.figure()\n",
    "fig.suptitle('Comparação de Algoritmos de Classificação')\n",
    "ax = fig.add_subplot(111)\n",
    "plt.boxplot(resultados)\n",
    "ax.set_xticklabels(nomes)\n",
    "plt.show()"
   ]
  },
  {
   "cell_type": "markdown",
   "metadata": {},
   "source": [
    "Com os dados normalizados, Todos os algoritimos tiveram uma boa performance, retirando o NB"
   ]
  },
  {
   "cell_type": "markdown",
   "metadata": {},
   "source": [
    "### Dados Padronizados"
   ]
  },
  {
   "cell_type": "markdown",
   "metadata": {},
   "source": [
    "#### Separação dos Dados Entre Treino e Teste"
   ]
  },
  {
   "cell_type": "code",
   "execution_count": 30,
   "metadata": {},
   "outputs": [],
   "source": [
    "# Carregando os dados\n",
    "array = VarTreinoPadronizadas[rfeVAR].values\n",
    "\n",
    "# Separando o array em componentes de input e output\n",
    "X = array[:,0:5]\n",
    "Y = targetTreino\n",
    "\n",
    "# Definindo os valores para os folds\n",
    "num_folds = 10\n",
    "seed = 7\n",
    "\n",
    "# Separando os dados em folds\n",
    "kfold = KFold(num_folds, True, random_state = seed)"
   ]
  },
  {
   "cell_type": "markdown",
   "metadata": {},
   "source": [
    "##### Realizando os testes com diversos modelos classificativos"
   ]
  },
  {
   "cell_type": "code",
   "execution_count": 64,
   "metadata": {},
   "outputs": [
    {
     "name": "stdout",
     "output_type": "stream",
     "text": [
      "LR: 0.960471 (0.002493)\n",
      "LDA: 0.960401 (0.002434)\n",
      "NB: 0.910101 (0.009387)\n",
      "KNN: 0.956342 (0.004616)\n",
      "CART: 0.949195 (0.002720)\n",
      "SVM: 0.960471 (0.002493)\n",
      "XGBoost: 0.960274 (0.002547)\n"
     ]
    },
    {
     "data": {
      "image/png": "[encoded data removed]",
      "text/plain": [
       "<Figure size 432x288 with 1 Axes>"
      ]
     },
     "metadata": {},
     "output_type": "display_data"
    }
   ],
   "source": [
    "# Preparando a lista de modelos\n",
    "modelos = []\n",
    "modelos.append(('LR', LogisticRegression()))\n",
    "modelos.append(('LDA', LinearDiscriminantAnalysis()))\n",
    "modelos.append(('NB', GaussianNB()))\n",
    "modelos.append(('KNN', KNeighborsClassifier()))\n",
    "modelos.append(('CART', DecisionTreeClassifier()))\n",
    "modelos.append(('SVM', SVC()))\n",
    "modelos.append(('XGBoost', xgb.XGBClassifier()))\n",
    "\n",
    "# Avaliando cada modelo em um loop\n",
    "resultados = []\n",
    "nomes = []\n",
    "\n",
    "for nome, modelo in modelos:\n",
    "    kfold = KFold(n_splits = num_folds, random_state = seed)\n",
    "    cv_results = cross_val_score(modelo, X, Y, cv = kfold, scoring = 'accuracy')\n",
    "    resultados.append(cv_results)\n",
    "    nomes.append(nome)\n",
    "    msg = \"%s: %f (%f)\" % (nome, cv_results.mean(), cv_results.std())\n",
    "    print(msg)\n",
    "\n",
    "# Boxplot para comparar os algoritmos\n",
    "fig = plt.figure()\n",
    "fig.suptitle('Comparação de Algoritmos de Classificação')\n",
    "ax = fig.add_subplot(111)\n",
    "plt.boxplot(resultados)\n",
    "ax.set_xticklabels(nomes)\n",
    "plt.show()"
   ]
  },
  {
   "cell_type": "markdown",
   "metadata": {},
   "source": [
    "Com os dados Padronizados, os melhores algoritimos foram os:\n",
    "###### Regressão Logistica, SVM e XGB"
   ]
  },
  {
   "cell_type": "markdown",
   "metadata": {},
   "source": [
    "### Rebalanceando a classes de clientes"
   ]
  },
  {
   "cell_type": "markdown",
   "metadata": {},
   "source": [
    "Como apenas ~4% dos dados são clientes insatisfeitos, pode acontecer do nosso algoritimo aprender muito como identificar clientes satisfeitos porém não conseguir realizar uma boa previsão para clientes insatisfeitos. "
   ]
  },
  {
   "cell_type": "markdown",
   "metadata": {},
   "source": [
    "Essa técnica ela pode funcionar muito bem, como não...\n",
    "\n",
    "Para descobrir se é o caso, apenas realizando os testes. No caso vou utilizar a técnica do Near Miss.Essa técnica excluir os dados de forma totalmente aleatoria até rebalencear as classes"
   ]
  },
  {
   "cell_type": "code",
   "execution_count": 32,
   "metadata": {
    "scrolled": true
   },
   "outputs": [
    {
     "data": {
      "image/png": "[encoded data removed]",
      "text/plain": [
       "<Figure size 432x288 with 1 Axes>"
      ]
     },
     "metadata": {},
     "output_type": "display_data"
    }
   ],
   "source": [
    "grupos = ['Satisfeito', 'Insatisfeito']\n",
    "valores = df['TARGET'].value_counts().values\n",
    "\n",
    "# Construção do gráfico\n",
    "plt.style.use(\"Solarize_Light2\")\n",
    "plt.bar(grupos, valores)\n",
    "plt.title('N° de Clientes Satisfeitos/Insatisfeitos no Santander Antes do Near Miss')\n",
    "plt.ylabel('N° de Clientes')\n",
    "plt.xlabel('Satisfeito/Insatisfeito')\n",
    "plt.show()"
   ]
  },
  {
   "cell_type": "code",
   "execution_count": 33,
   "metadata": {},
   "outputs": [
    {
     "data": {
      "image/png": "[encoded data removed]",
      "text/plain": [
       "<Figure size 432x288 with 1 Axes>"
      ]
     },
     "metadata": {},
     "output_type": "display_data"
    }
   ],
   "source": [
    "# Criando a instancia\n",
    "nr = NearMiss()\n",
    "\n",
    "# Carregando os dados\n",
    "array = VarTreino[rfeVAR].values\n",
    "\n",
    "# Separando o array em componentes de input e output\n",
    "X = array[:,0:5]\n",
    "Y = targetTreino\n",
    "\n",
    "VarTreinoMiss, targetTreinoMiss = nr.fit_sample(X, Y)\n",
    "\n",
    "sns.countplot(targetTreinoMiss)\n",
    "plt.title('Classe rebalanceade Depois do Near Miss')\n",
    "plt.show()"
   ]
  },
  {
   "cell_type": "markdown",
   "metadata": {},
   "source": [
    "#### Separação dos Dados Entre Treino e Teste"
   ]
  },
  {
   "cell_type": "code",
   "execution_count": 34,
   "metadata": {},
   "outputs": [],
   "source": [
    "# Carregando os dados\n",
    "array = VarTreinoMiss\n",
    "\n",
    "# Separando o array em componentes de input e output\n",
    "X = array[:,0:5]\n",
    "Y = targetTreinoMiss\n",
    "\n",
    "# Definindo os valores para os folds\n",
    "num_folds = 10\n",
    "seed = 7\n",
    "\n",
    "# Separando os dados em folds\n",
    "kfold = KFold(num_folds, True, random_state = seed)"
   ]
  },
  {
   "cell_type": "markdown",
   "metadata": {},
   "source": [
    "##### Realizando os testes com diversos modelos classificativos"
   ]
  },
  {
   "cell_type": "code",
   "execution_count": 35,
   "metadata": {},
   "outputs": [
    {
     "name": "stdout",
     "output_type": "stream",
     "text": [
      "LR: 0.713677 (0.098286)\n",
      "LDA: 0.703375 (0.128833)\n",
      "NB: 0.601421 (0.377461)\n",
      "KNN: 0.662877 (0.278474)\n",
      "CART: 0.781350 (0.025238)\n",
      "SVM: 0.040853 (0.041145)\n",
      "XGBoost: 0.788099 (0.030786)\n"
     ]
    },
    {
     "data": {
      "image/png": "[encoded data removed]",
      "text/plain": [
       "<Figure size 432x288 with 1 Axes>"
      ]
     },
     "metadata": {},
     "output_type": "display_data"
    }
   ],
   "source": [
    "# Preparando a lista de modelos\n",
    "modelos = []\n",
    "modelos.append(('LR', LogisticRegression()))\n",
    "modelos.append(('LDA', LinearDiscriminantAnalysis()))\n",
    "modelos.append(('NB', GaussianNB()))\n",
    "modelos.append(('KNN', KNeighborsClassifier()))\n",
    "modelos.append(('CART', DecisionTreeClassifier()))\n",
    "modelos.append(('SVM', SVC()))\n",
    "modelos.append(('XGBoost', xgb.XGBClassifier()))\n",
    "\n",
    "# Avaliando cada modelo em um loop\n",
    "resultados = []\n",
    "nomes = []\n",
    "\n",
    "for nome, modelo in modelos:\n",
    "    kfold = KFold(n_splits = num_folds, random_state = seed)\n",
    "    cv_results = cross_val_score(modelo, X, Y, cv = kfold, scoring = 'accuracy')\n",
    "    resultados.append(cv_results)\n",
    "    nomes.append(nome)\n",
    "    msg = \"%s: %f (%f)\" % (nome, cv_results.mean(), cv_results.std())\n",
    "    print(msg)\n",
    "\n",
    "# Boxplot para comparar os algoritmos\n",
    "fig = plt.figure()\n",
    "fig.suptitle('Comparação de Algoritmos de Classificação')\n",
    "ax = fig.add_subplot(111)\n",
    "plt.boxplot(resultados)\n",
    "ax.set_xticklabels(nomes)\n",
    "plt.show()"
   ]
  },
  {
   "cell_type": "markdown",
   "metadata": {},
   "source": [
    "Na primeira fase de testes, podemos verificar que os modelos NB, KNN, CART não consguiram realizar uma boa performance, por este motivo estarei excluindo eles da próxima fase de testes."
   ]
  },
  {
   "cell_type": "markdown",
   "metadata": {},
   "source": [
    "Outra conclusão que podemos perceber é que com os Dados Padronizados, conseguimos obter os melhores resultados e por este motivo estarei utilizando os dados padronizados"
   ]
  },
  {
   "cell_type": "markdown",
   "metadata": {},
   "source": [
    "### Avalição Detalhada dos Melhores Modelos"
   ]
  },
  {
   "cell_type": "markdown",
   "metadata": {},
   "source": [
    "##### Regressão Logistica"
   ]
  },
  {
   "cell_type": "code",
   "execution_count": 36,
   "metadata": {},
   "outputs": [
    {
     "name": "stdout",
     "output_type": "stream",
     "text": [
      "AUC: 75.464\n"
     ]
    }
   ],
   "source": [
    "# Curva ROC \n",
    "# A Curva ROC permite analisar a métrica AUC (Area Under the Curve).\n",
    "# Essa é uma métrica de performance para classificação binária, em que podemos definir as classes em positiavs e negativas.\n",
    "# Problemas de classificação binária são um trade-off sentre Sensitivity e Specifity.\n",
    "# Sensitivity é a taxa de verdadeiros positivos (TP). Ese é o número de instâncias positivas da primeira classe que foram previstas corretamente.\n",
    "# Specifity é a taxa de verdadeiros negativos (TN). Esse é o número de instâncias da segunda classe que foram previstas corretamente.\n",
    "# Valores acima de 0.5 indicam uma boa taxa de previsão.\n",
    "\n",
    "# Carregando os dados\n",
    "array = VarTreinoPadronizadas[rfeVAR].values\n",
    "\n",
    "# Separando o array em componentes de input e output\n",
    "X = array[:,0:5]\n",
    "Y = targetTreino\n",
    "\n",
    "# Definindo os valores para os folds\n",
    "num_folds = 10\n",
    "seed = 7\n",
    "\n",
    "# Separando os dados em folds\n",
    "kfold = KFold(num_folds, True, random_state = seed)\n",
    "\n",
    "# Criando o modelo\n",
    "model = LogisticRegression()\n",
    "\n",
    "# Cross Validation\n",
    "resultado = cross_val_score(model, X, Y, cv = kfold, scoring = 'roc_auc')\n",
    "\n",
    "# Guardando resultado\n",
    "ROCRegression = resultado.mean()*100\n",
    "\n",
    "# Print do resultado\n",
    "print(\"AUC: %.3f\" % (resultado.mean() * 100))"
   ]
  },
  {
   "cell_type": "code",
   "execution_count": 37,
   "metadata": {},
   "outputs": [
    {
     "name": "stdout",
     "output_type": "stream",
     "text": [
      "[[22610     0]\n",
      " [  891     0]]\n"
     ]
    }
   ],
   "source": [
    "# Confusion Matrix\n",
    "# Permite verificar a acurácia em um formato de tabela\n",
    "# Carregando os dados\n",
    "array = VarTreinoPadronizadas[rfeVAR].values\n",
    "\n",
    "# Separando o array em componentes de input e output\n",
    "X = array[:,0:5]\n",
    "Y = targetTreino\n",
    "\n",
    "# Definindo o tamanho do conjunto de dados\n",
    "teste_size = 0.33\n",
    "seed = 7\n",
    "\n",
    "# Dividindo os dados em treino e teste\n",
    "X_treino, X_teste, Y_treino, Y_teste = train_test_split(VarTreinoPadronizadas[rfeVAR], targetTreino, test_size = teste_size, \n",
    "                                                        random_state = seed)\n",
    "\n",
    "# Criando o modelo\n",
    "model = LogisticRegression()\n",
    "model.fit(X_treino, Y_treino)\n",
    "\n",
    "# Fazendo as previsões e construindo a Confusion Matrix\n",
    "previsoes = model.predict(X_teste)\n",
    "matrixRegression = confusion_matrix(Y_teste, previsoes)\n",
    "\n",
    "# Imprimindo a Confusion Matrix\n",
    "print(matrixRegression)"
   ]
  },
  {
   "cell_type": "code",
   "execution_count": 38,
   "metadata": {},
   "outputs": [
    {
     "name": "stdout",
     "output_type": "stream",
     "text": [
      "              precision    recall  f1-score   support\n",
      "\n",
      "           0       0.96      1.00      0.98     22610\n",
      "           1       0.00      0.00      0.00       891\n",
      "\n",
      "    accuracy                           0.96     23501\n",
      "   macro avg       0.48      0.50      0.49     23501\n",
      "weighted avg       0.93      0.96      0.94     23501\n",
      "\n"
     ]
    }
   ],
   "source": [
    "# Relatório de Classificação\n",
    "\n",
    "# Fazendo as previsões e construindo o relatório\n",
    "previsoes = model.predict(X_teste)\n",
    "reportRegression = classification_report(Y_teste, previsoes)\n",
    "\n",
    "\n",
    "# Imprimindo o relatório\n",
    "print(reportRegression)"
   ]
  },
  {
   "cell_type": "markdown",
   "metadata": {},
   "source": [
    "##### SVM"
   ]
  },
  {
   "cell_type": "code",
   "execution_count": 39,
   "metadata": {},
   "outputs": [
    {
     "name": "stdout",
     "output_type": "stream",
     "text": [
      "AUC: 55.481\n"
     ]
    }
   ],
   "source": [
    "# Carregando os dados\n",
    "array = VarTreinoPadronizadas[rfeVAR].values\n",
    "\n",
    "# Separando o array em componentes de input e output\n",
    "X = array[:,0:5]\n",
    "Y = targetTreino\n",
    "\n",
    "# Definindo os valores para os folds\n",
    "num_folds = 10\n",
    "seed = 7\n",
    "\n",
    "# Separando os dados em folds\n",
    "kfold = KFold(num_folds, True, random_state = seed)\n",
    "\n",
    "# Criando o modelo\n",
    "model = SVC()\n",
    "\n",
    "# Cross Validation\n",
    "resultado = cross_val_score(model, X, Y, cv = kfold, scoring = 'roc_auc')\n",
    "\n",
    "ROCSvm = resultado.mean() * 100\n",
    "\n",
    "# Print do resultado\n",
    "print(\"AUC: %.3f\" % (resultado.mean() * 100))"
   ]
  },
  {
   "cell_type": "code",
   "execution_count": 40,
   "metadata": {},
   "outputs": [
    {
     "name": "stdout",
     "output_type": "stream",
     "text": [
      "[[22610     0]\n",
      " [  891     0]]\n"
     ]
    }
   ],
   "source": [
    "# Confusion Matrix\n",
    "# Permite verificar a acurácia em um formato de tabela\n",
    "# Carregando os dados\n",
    "array = VarTreinoPadronizadas[rfeVAR].values\n",
    "\n",
    "# Separando o array em componentes de input e output\n",
    "X = array[:,0:5]\n",
    "Y = targetTreino\n",
    "\n",
    "# Definindo o tamanho do conjunto de dados\n",
    "teste_size = 0.33\n",
    "seed = 7\n",
    "\n",
    "# Dividindo os dados em treino e teste\n",
    "X_treino, X_teste, Y_treino, Y_teste = train_test_split(VarTreinoPadronizadas[rfeVAR], targetTreino, test_size = teste_size, \n",
    "                                                        random_state = seed)\n",
    "\n",
    "# Criando o modelo\n",
    "model = SVC()\n",
    "model.fit(X_treino, Y_treino)\n",
    "\n",
    "# Fazendo as previsões e construindo a Confusion Matrix\n",
    "previsoes = model.predict(X_teste)\n",
    "matrixSvm = confusion_matrix(Y_teste, previsoes)\n",
    "\n",
    "# Imprimindo a Confusion Matrix\n",
    "print(matrixSvm)"
   ]
  },
  {
   "cell_type": "code",
   "execution_count": 41,
   "metadata": {},
   "outputs": [
    {
     "name": "stdout",
     "output_type": "stream",
     "text": [
      "              precision    recall  f1-score   support\n",
      "\n",
      "           0       0.96      1.00      0.98     22610\n",
      "           1       0.00      0.00      0.00       891\n",
      "\n",
      "    accuracy                           0.96     23501\n",
      "   macro avg       0.48      0.50      0.49     23501\n",
      "weighted avg       0.93      0.96      0.94     23501\n",
      "\n"
     ]
    }
   ],
   "source": [
    "# Relatório de Classificação\n",
    "\n",
    "# Fazendo as previsões e construindo o relatório\n",
    "previsoes = model.predict(X_teste)\n",
    "reportSvm = classification_report(Y_teste, previsoes)\n",
    "\n",
    "# Imprimindo o relatório\n",
    "print(reportSvm)"
   ]
  },
  {
   "cell_type": "markdown",
   "metadata": {},
   "source": [
    "##### XGBoost"
   ]
  },
  {
   "cell_type": "code",
   "execution_count": 42,
   "metadata": {},
   "outputs": [
    {
     "name": "stdout",
     "output_type": "stream",
     "text": [
      "AUC: 81.243\n"
     ]
    }
   ],
   "source": [
    "# Carregando os dados\n",
    "array = VarTreinoPadronizadas[rfeVAR].values\n",
    "\n",
    "# Separando o array em componentes de input e output\n",
    "X = array[:,0:5]\n",
    "Y = targetTreino\n",
    "\n",
    "# Definindo os valores para os folds\n",
    "num_folds = 10\n",
    "seed = 7\n",
    "\n",
    "# Separando os dados em folds\n",
    "kfold = KFold(num_folds, True, random_state = seed)\n",
    "\n",
    "# Criando o modelo\n",
    "model = xgb.XGBClassifier()\n",
    "\n",
    "# Cross Validation\n",
    "resultado = cross_val_score(model, X, Y, cv = kfold, scoring = 'roc_auc')\n",
    "ROCXgb = resultado.mean() * 100\n",
    "\n",
    "# Print do resultado\n",
    "print(\"AUC: %.3f\" % (resultado.mean() * 100))"
   ]
  },
  {
   "cell_type": "code",
   "execution_count": 43,
   "metadata": {},
   "outputs": [
    {
     "name": "stdout",
     "output_type": "stream",
     "text": [
      "[[22597    13]\n",
      " [  889     2]]\n"
     ]
    }
   ],
   "source": [
    "# Confusion Matrix\n",
    "# Permite verificar a acurácia em um formato de tabela\n",
    "# Carregando os dados\n",
    "array = VarTreinoPadronizadas[rfeVAR].values\n",
    "\n",
    "# Separando o array em componentes de input e output\n",
    "X = array[:,0:5]\n",
    "Y = targetTreino\n",
    "\n",
    "# Definindo o tamanho do conjunto de dados\n",
    "teste_size = 0.33\n",
    "seed = 7\n",
    "\n",
    "# Dividindo os dados em treino e teste\n",
    "X_treino, X_teste, Y_treino, Y_teste = train_test_split(VarTreinoPadronizadas[rfeVAR], targetTreino, test_size = teste_size, \n",
    "                                                        random_state = seed)\n",
    "\n",
    "# Criando o modelo\n",
    "model = xgb.XGBClassifier()\n",
    "model.fit(X_treino, Y_treino)\n",
    "\n",
    "# Fazendo as previsões e construindo a Confusion Matrix\n",
    "previsoes = model.predict(X_teste)\n",
    "matrixXgb = confusion_matrix(Y_teste, previsoes)\n",
    "\n",
    "# Imprimindo a Confusion Matrix\n",
    "print(matrixXgb)"
   ]
  },
  {
   "cell_type": "code",
   "execution_count": 44,
   "metadata": {},
   "outputs": [
    {
     "name": "stdout",
     "output_type": "stream",
     "text": [
      "              precision    recall  f1-score   support\n",
      "\n",
      "           0       0.96      1.00      0.98     22610\n",
      "           1       0.13      0.00      0.00       891\n",
      "\n",
      "    accuracy                           0.96     23501\n",
      "   macro avg       0.55      0.50      0.49     23501\n",
      "weighted avg       0.93      0.96      0.94     23501\n",
      "\n"
     ]
    }
   ],
   "source": [
    "# Relatório de Classificação\n",
    "\n",
    "# Fazendo as previsões e construindo o relatório\n",
    "previsoes = model.predict(X_teste)\n",
    "reportXgb = classification_report(Y_teste, previsoes)\n",
    "\n",
    "# Imprimindo o relatório\n",
    "print(reportXgb)"
   ]
  },
  {
   "cell_type": "markdown",
   "metadata": {},
   "source": [
    "### Realizando a comparação entre os modelos"
   ]
  },
  {
   "cell_type": "markdown",
   "metadata": {},
   "source": [
    "##### Curva ROC"
   ]
  },
  {
   "cell_type": "code",
   "execution_count": 45,
   "metadata": {},
   "outputs": [
    {
     "name": "stdout",
     "output_type": "stream",
     "text": [
      "Regressão Logistica 75.464\n",
      "SVM 55.481\n",
      "XGB 81.243\n"
     ]
    }
   ],
   "source": [
    "print('Regressão Logistica', round(ROCRegression, 3))\n",
    "print('SVM', round(ROCSvm, 3))\n",
    "print('XGB', round(ROCXgb,3))"
   ]
  },
  {
   "cell_type": "markdown",
   "metadata": {},
   "source": [
    "##### Confusion Matrix"
   ]
  },
  {
   "cell_type": "code",
   "execution_count": 46,
   "metadata": {},
   "outputs": [
    {
     "name": "stdout",
     "output_type": "stream",
     "text": [
      "\t Regressão Logistica\n",
      "[[22610     0]\n",
      " [  891     0]] \n",
      "\n",
      "\t SVM\n",
      "[[22610     0]\n",
      " [  891     0]] \n",
      "\n",
      "\t XGB\n",
      "[[22597    13]\n",
      " [  889     2]]\n"
     ]
    }
   ],
   "source": [
    "print('\\t Regressão Logistica')\n",
    "print(matrixRegression, '\\n')\n",
    "print('\\t SVM')\n",
    "print(matrixSvm, '\\n')\n",
    "print('\\t XGB')\n",
    "print(matrixXgb)"
   ]
  },
  {
   "cell_type": "markdown",
   "metadata": {},
   "source": [
    "##### Report"
   ]
  },
  {
   "cell_type": "code",
   "execution_count": 47,
   "metadata": {},
   "outputs": [
    {
     "name": "stdout",
     "output_type": "stream",
     "text": [
      "\t \t Regressão Logistica\n",
      "              precision    recall  f1-score   support\n",
      "\n",
      "           0       0.96      1.00      0.98     22610\n",
      "           1       0.00      0.00      0.00       891\n",
      "\n",
      "    accuracy                           0.96     23501\n",
      "   macro avg       0.48      0.50      0.49     23501\n",
      "weighted avg       0.93      0.96      0.94     23501\n",
      " \n",
      "\n",
      "\t \t SVM\n",
      "              precision    recall  f1-score   support\n",
      "\n",
      "           0       0.96      1.00      0.98     22610\n",
      "           1       0.00      0.00      0.00       891\n",
      "\n",
      "    accuracy                           0.96     23501\n",
      "   macro avg       0.48      0.50      0.49     23501\n",
      "weighted avg       0.93      0.96      0.94     23501\n",
      " \n",
      "\n",
      "\t \t XGB\n",
      "              precision    recall  f1-score   support\n",
      "\n",
      "           0       0.96      1.00      0.98     22610\n",
      "           1       0.13      0.00      0.00       891\n",
      "\n",
      "    accuracy                           0.96     23501\n",
      "   macro avg       0.55      0.50      0.49     23501\n",
      "weighted avg       0.93      0.96      0.94     23501\n",
      "\n"
     ]
    }
   ],
   "source": [
    "print('\\t \\t Regressão Logistica')\n",
    "print(reportRegression, '\\n')\n",
    "print('\\t \\t SVM')\n",
    "print(reportSvm, '\\n')\n",
    "print('\\t \\t XGB')\n",
    "print(reportXgb)"
   ]
  },
  {
   "cell_type": "markdown",
   "metadata": {},
   "source": [
    "Como podemos ver, o algoritimo XGB conseguiu se sair superior em todas as metricas utilizadas. Por este motivo vou utilizar esse algortimo para a próxima etapa"
   ]
  },
  {
   "cell_type": "markdown",
   "metadata": {},
   "source": [
    "## Realizando Previsões e Testes Direto no Site Kaggle"
   ]
  },
  {
   "cell_type": "markdown",
   "metadata": {},
   "source": [
    "### Primeira tentativa será utilizando os Dados Normalizadas"
   ]
  },
  {
   "cell_type": "code",
   "execution_count": 48,
   "metadata": {},
   "outputs": [
    {
     "data": {
      "text/html": [
       "<div>\n",
       "<style scoped>\n",
       "    .dataframe tbody tr th:only-of-type {\n",
       "        vertical-align: middle;\n",
       "    }\n",
       "\n",
       "    .dataframe tbody tr th {\n",
       "        vertical-align: top;\n",
       "    }\n",
       "\n",
       "    .dataframe thead th {\n",
       "        text-align: right;\n",
       "    }\n",
       "</style>\n",
       "<table border=\"1\" class=\"dataframe\">\n",
       "  <thead>\n",
       "    <tr style=\"text-align: right;\">\n",
       "      <th></th>\n",
       "      <th>var15</th>\n",
       "      <th>ind_var26_cte</th>\n",
       "      <th>num_var42_0</th>\n",
       "      <th>saldo_var30</th>\n",
       "      <th>saldo_medio_var5_hace2</th>\n",
       "    </tr>\n",
       "  </thead>\n",
       "  <tbody>\n",
       "    <tr>\n",
       "      <th>0</th>\n",
       "      <td>0.27</td>\n",
       "      <td>0.0</td>\n",
       "      <td>0.066667</td>\n",
       "      <td>0.000943</td>\n",
       "      <td>0.002324</td>\n",
       "    </tr>\n",
       "    <tr>\n",
       "      <th>1</th>\n",
       "      <td>0.30</td>\n",
       "      <td>0.0</td>\n",
       "      <td>0.066667</td>\n",
       "      <td>0.000943</td>\n",
       "      <td>0.002319</td>\n",
       "    </tr>\n",
       "    <tr>\n",
       "      <th>2</th>\n",
       "      <td>0.18</td>\n",
       "      <td>0.0</td>\n",
       "      <td>0.066667</td>\n",
       "      <td>0.000949</td>\n",
       "      <td>0.002447</td>\n",
       "    </tr>\n",
       "    <tr>\n",
       "      <th>3</th>\n",
       "      <td>0.19</td>\n",
       "      <td>0.0</td>\n",
       "      <td>0.066667</td>\n",
       "      <td>0.000942</td>\n",
       "      <td>0.002315</td>\n",
       "    </tr>\n",
       "    <tr>\n",
       "      <th>4</th>\n",
       "      <td>0.18</td>\n",
       "      <td>0.0</td>\n",
       "      <td>0.066667</td>\n",
       "      <td>0.000949</td>\n",
       "      <td>0.002359</td>\n",
       "    </tr>\n",
       "  </tbody>\n",
       "</table>\n",
       "</div>"
      ],
      "text/plain": [
       "   var15  ind_var26_cte  num_var42_0  saldo_var30  saldo_medio_var5_hace2\n",
       "0   0.27            0.0     0.066667     0.000943                0.002324\n",
       "1   0.30            0.0     0.066667     0.000943                0.002319\n",
       "2   0.18            0.0     0.066667     0.000949                0.002447\n",
       "3   0.19            0.0     0.066667     0.000942                0.002315\n",
       "4   0.18            0.0     0.066667     0.000949                0.002359"
      ]
     },
     "execution_count": 48,
     "metadata": {},
     "output_type": "execute_result"
    }
   ],
   "source": [
    "# Normalizando os dados de TESTE\n",
    "\n",
    "scaler = MinMaxScaler()\n",
    "\n",
    "# Aplicando a escala no Dataset\n",
    "VarTesteNormalizadas = scaler.fit_transform(VarTeste[rfeVAR])\n",
    "\n",
    "# Criando um DataFrame com os resultados obtidos.\n",
    "VarTesteNormalizadas = pd.DataFrame(data = VarTesteNormalizadas, columns = rfeVAR)\n",
    "\n",
    "VarTesteNormalizadas.head()"
   ]
  },
  {
   "cell_type": "code",
   "execution_count": 49,
   "metadata": {},
   "outputs": [
    {
     "data": {
      "text/plain": [
       "XGBClassifier(base_score=0.5, booster='gbtree', colsample_bylevel=1,\n",
       "              colsample_bynode=1, colsample_bytree=1, gamma=0, gpu_id=-1,\n",
       "              importance_type='gain', interaction_constraints='',\n",
       "              learning_rate=0.300000012, max_delta_step=0, max_depth=6,\n",
       "              min_child_weight=1, missing=nan, monotone_constraints='()',\n",
       "              n_estimators=100, n_jobs=0, num_parallel_tree=1, random_state=0,\n",
       "              reg_alpha=0, reg_lambda=1, scale_pos_weight=1, subsample=1,\n",
       "              tree_method='exact', validate_parameters=1, verbosity=None)"
      ]
     },
     "execution_count": 49,
     "metadata": {},
     "output_type": "execute_result"
    }
   ],
   "source": [
    "# Carregando os dados\n",
    "array = VarTreinoNormalizadas[rfeVAR].values\n",
    "\n",
    "# Separando o array em componentes de input e output\n",
    "X = array[:,0:5]\n",
    "Y = targetTreino\n",
    "\n",
    "# Definindo o tamanho do conjunto de dados\n",
    "teste_size = 0.33\n",
    "seed = 7\n",
    "\n",
    "# Dividindo os dados em treino e teste\n",
    "X_treino, X_teste, Y_treino, Y_teste = train_test_split(VarTreinoNormalizadas[rfeVAR], targetTreino, test_size = teste_size, \n",
    "                                                        random_state = seed)\n",
    "\n",
    "# Criando o modelo\n",
    "model = xgb.XGBClassifier()\n",
    "model.fit(X_treino, Y_treino)"
   ]
  },
  {
   "cell_type": "code",
   "execution_count": 50,
   "metadata": {},
   "outputs": [],
   "source": [
    "# Salvando as previsões feitas pelo classificador, para o conjunto de teste em um arquivo CSV.\n",
    "\n",
    "pd.DataFrame({\n",
    "    'ID'    : testeID,\n",
    "    'TARGET': model.predict_proba(VarTesteNormalizadas)[:, 1]\n",
    "}).to_csv('previsoes/XGB_normalizada.csv', index = False)"
   ]
  },
  {
   "cell_type": "markdown",
   "metadata": {},
   "source": [
    "##### Utilizando os Dados Normalizados, foi possivel obter um score de 0.72634 "
   ]
  },
  {
   "cell_type": "markdown",
   "metadata": {},
   "source": [
    "### Segunda tentativa será utilizando os Dados Padronizados"
   ]
  },
  {
   "cell_type": "code",
   "execution_count": 51,
   "metadata": {},
   "outputs": [
    {
     "data": {
      "text/html": [
       "<div>\n",
       "<style scoped>\n",
       "    .dataframe tbody tr th:only-of-type {\n",
       "        vertical-align: middle;\n",
       "    }\n",
       "\n",
       "    .dataframe tbody tr th {\n",
       "        vertical-align: top;\n",
       "    }\n",
       "\n",
       "    .dataframe thead th {\n",
       "        text-align: right;\n",
       "    }\n",
       "</style>\n",
       "<table border=\"1\" class=\"dataframe\">\n",
       "  <thead>\n",
       "    <tr style=\"text-align: right;\">\n",
       "      <th></th>\n",
       "      <th>var15</th>\n",
       "      <th>ind_var26_cte</th>\n",
       "      <th>num_var42_0</th>\n",
       "      <th>saldo_var30</th>\n",
       "      <th>saldo_medio_var5_hace2</th>\n",
       "    </tr>\n",
       "  </thead>\n",
       "  <tbody>\n",
       "    <tr>\n",
       "      <th>0</th>\n",
       "      <td>-0.088064</td>\n",
       "      <td>-0.173677</td>\n",
       "      <td>-0.234522</td>\n",
       "      <td>-0.213010</td>\n",
       "      <td>-0.134997</td>\n",
       "    </tr>\n",
       "    <tr>\n",
       "      <th>1</th>\n",
       "      <td>0.143920</td>\n",
       "      <td>-0.173677</td>\n",
       "      <td>-0.234522</td>\n",
       "      <td>-0.213056</td>\n",
       "      <td>-0.135246</td>\n",
       "    </tr>\n",
       "    <tr>\n",
       "      <th>2</th>\n",
       "      <td>-0.784016</td>\n",
       "      <td>-0.173677</td>\n",
       "      <td>-0.234522</td>\n",
       "      <td>-0.212646</td>\n",
       "      <td>-0.128011</td>\n",
       "    </tr>\n",
       "    <tr>\n",
       "      <th>3</th>\n",
       "      <td>-0.706688</td>\n",
       "      <td>-0.173677</td>\n",
       "      <td>-0.234522</td>\n",
       "      <td>-0.213101</td>\n",
       "      <td>-0.135496</td>\n",
       "    </tr>\n",
       "    <tr>\n",
       "      <th>4</th>\n",
       "      <td>-0.784016</td>\n",
       "      <td>-0.173677</td>\n",
       "      <td>-0.234522</td>\n",
       "      <td>-0.212646</td>\n",
       "      <td>-0.133001</td>\n",
       "    </tr>\n",
       "  </tbody>\n",
       "</table>\n",
       "</div>"
      ],
      "text/plain": [
       "      var15  ind_var26_cte  num_var42_0  saldo_var30  saldo_medio_var5_hace2\n",
       "0 -0.088064      -0.173677    -0.234522    -0.213010               -0.134997\n",
       "1  0.143920      -0.173677    -0.234522    -0.213056               -0.135246\n",
       "2 -0.784016      -0.173677    -0.234522    -0.212646               -0.128011\n",
       "3 -0.706688      -0.173677    -0.234522    -0.213101               -0.135496\n",
       "4 -0.784016      -0.173677    -0.234522    -0.212646               -0.133001"
      ]
     },
     "execution_count": 51,
     "metadata": {},
     "output_type": "execute_result"
    }
   ],
   "source": [
    "# Padronizando os dados de TESTE\n",
    "\n",
    "scaler = StandardScaler()\n",
    "\n",
    "# Aplicando a escala no Dataset\n",
    "VarTestePadronizadas = scaler.fit_transform(VarTeste[rfeVAR])\n",
    "\n",
    "# Criando um DataFrame com os resultados obtidos.\n",
    "VarTestePadronizadas = pd.DataFrame(data = VarTestePadronizadas, columns = rfeVAR)\n",
    "\n",
    "VarTestePadronizadas.head()"
   ]
  },
  {
   "cell_type": "code",
   "execution_count": 52,
   "metadata": {},
   "outputs": [
    {
     "data": {
      "text/plain": [
       "XGBClassifier(base_score=0.5, booster='gbtree', colsample_bylevel=1,\n",
       "              colsample_bynode=1, colsample_bytree=1, gamma=0, gpu_id=-1,\n",
       "              importance_type='gain', interaction_constraints='',\n",
       "              learning_rate=0.300000012, max_delta_step=0, max_depth=6,\n",
       "              min_child_weight=1, missing=nan, monotone_constraints='()',\n",
       "              n_estimators=100, n_jobs=0, num_parallel_tree=1, random_state=0,\n",
       "              reg_alpha=0, reg_lambda=1, scale_pos_weight=1, subsample=1,\n",
       "              tree_method='exact', validate_parameters=1, verbosity=None)"
      ]
     },
     "execution_count": 52,
     "metadata": {},
     "output_type": "execute_result"
    }
   ],
   "source": [
    "# Carregando os dados\n",
    "array = VarTreinoPadronizadas[rfeVAR].values\n",
    "\n",
    "# Separando o array em componentes de input e output\n",
    "X = array[:,0:5]\n",
    "Y = targetTreino\n",
    "\n",
    "# Definindo o tamanho do conjunto de dados\n",
    "teste_size = 0.33\n",
    "seed = 7\n",
    "\n",
    "# Dividindo os dados em treino e teste\n",
    "X_treino, X_teste, Y_treino, Y_teste = train_test_split(VarTreinoPadronizadas[rfeVAR], targetTreino, test_size = teste_size, \n",
    "                                                        random_state = seed)\n",
    "\n",
    "# Criando o modelo\n",
    "model = xgb.XGBClassifier()\n",
    "model.fit(X_treino, Y_treino)"
   ]
  },
  {
   "cell_type": "code",
   "execution_count": 53,
   "metadata": {},
   "outputs": [],
   "source": [
    "# Salvando as previsões feitas pelo classificador, para o conjunto de teste em um arquivo CSV.\n",
    "\n",
    "pd.DataFrame({\n",
    "    'ID'    : testeID,\n",
    "    'TARGET': model.predict_proba(VarTestePadronizadas)[:, 1]\n",
    "}).to_csv('previsoes/XGB_padronizada.csv', index = False)"
   ]
  },
  {
   "cell_type": "markdown",
   "metadata": {},
   "source": [
    "##### Utilizando os Dados Padronizados, foi possivel obter um score de 0.77629"
   ]
  },
  {
   "cell_type": "markdown",
   "metadata": {},
   "source": [
    "### Terceira tentativa será utilizando os Dados Padronizados com o Near Miss"
   ]
  },
  {
   "cell_type": "code",
   "execution_count": 54,
   "metadata": {},
   "outputs": [],
   "source": [
    "# Criando a instancia\n",
    "nr = NearMiss()\n",
    "\n",
    "# Carregando os dados\n",
    "array = VarTreinoPadronizadas[rfeVAR].values\n",
    "\n",
    "# Separando o array em componentes de input e output\n",
    "X = array[:,0:5]\n",
    "Y = targetTreino\n",
    "\n",
    "VarTreinoNormalMiss, targetTreinoNormalMiss = nr.fit_sample(X, Y)"
   ]
  },
  {
   "cell_type": "code",
   "execution_count": 55,
   "metadata": {},
   "outputs": [
    {
     "data": {
      "text/plain": [
       "XGBClassifier(base_score=0.5, booster='gbtree', colsample_bylevel=1,\n",
       "              colsample_bynode=1, colsample_bytree=1, gamma=0, gpu_id=-1,\n",
       "              importance_type='gain', interaction_constraints='',\n",
       "              learning_rate=0.300000012, max_delta_step=0, max_depth=6,\n",
       "              min_child_weight=1, missing=nan, monotone_constraints='()',\n",
       "              n_estimators=100, n_jobs=0, num_parallel_tree=1, random_state=0,\n",
       "              reg_alpha=0, reg_lambda=1, scale_pos_weight=1, subsample=1,\n",
       "              tree_method='exact', validate_parameters=1, verbosity=None)"
      ]
     },
     "execution_count": 55,
     "metadata": {},
     "output_type": "execute_result"
    }
   ],
   "source": [
    "# Carregando os dados\n",
    "array = VarTreinoNormalMiss\n",
    "\n",
    "# Separando o array em componentes de input e output\n",
    "X = array[:,0:5]\n",
    "Y = targetTreinoNormalMiss\n",
    "\n",
    "# Definindo o tamanho do conjunto de dados\n",
    "teste_size = 0.33\n",
    "seed = 7\n",
    "\n",
    "# Dividindo os dados em treino e teste\n",
    "X_treino, X_teste, Y_treino, Y_teste = train_test_split(VarTreinoNormalMiss, targetTreinoNormalMiss, test_size = teste_size, \n",
    "                                                        random_state = seed)\n",
    "\n",
    "# Criando o modelo\n",
    "model = xgb.XGBClassifier()\n",
    "model.fit(X_treino, Y_treino)"
   ]
  },
  {
   "cell_type": "code",
   "execution_count": 56,
   "metadata": {},
   "outputs": [],
   "source": [
    "# Salvando as previsões feitas pelo classificador, para o conjunto de teste em um arquivo CSV.\n",
    "\n",
    "pd.DataFrame({\n",
    "    'ID'    : testeID,\n",
    "    'TARGET': model.predict_proba(VarTestePadronizadas)[:, 1]\n",
    "}).to_csv('previsoes/XGB_Padronizada_NearMiss.csv', index = False)"
   ]
  },
  {
   "cell_type": "markdown",
   "metadata": {},
   "source": [
    "##### Utilizando os Dados Padronizados com o Near Miss, foi possivel obter um score de 0.72431"
   ]
  },
  {
   "cell_type": "markdown",
   "metadata": {},
   "source": [
    "Após essa rodada de teste, é possivel perceber que o melhor resultado foi com os Dados Padronizados"
   ]
  },
  {
   "cell_type": "markdown",
   "metadata": {},
   "source": [
    "Para melhorar ainda mais a perfomance do meu algoritmo, irei utilizar o grid para otimizar os parametros"
   ]
  },
  {
   "cell_type": "markdown",
   "metadata": {},
   "source": [
    "# Otimização De Ajustes"
   ]
  },
  {
   "cell_type": "code",
   "execution_count": 57,
   "metadata": {},
   "outputs": [
    {
     "name": "stdout",
     "output_type": "stream",
     "text": [
      "Fitting 10 folds for each of 18 candidates, totalling 180 fits\n"
     ]
    },
    {
     "name": "stderr",
     "output_type": "stream",
     "text": [
      "[Parallel(n_jobs=-1)]: Using backend LokyBackend with 8 concurrent workers.\n",
      "[Parallel(n_jobs=-1)]: Done  34 tasks      | elapsed:  1.5min\n",
      "[Parallel(n_jobs=-1)]: Done 180 out of 180 | elapsed:  8.5min finished\n"
     ]
    },
    {
     "name": "stdout",
     "output_type": "stream",
     "text": [
      "\n",
      "Melhores Parâmetros para o Modelo:\n",
      "\n",
      " XGBClassifier(base_score=0.5, booster='gbtree', colsample_bylevel=1,\n",
      "              colsample_bynode=1, colsample_bytree=0.85, gamma=0, gpu_id=-1,\n",
      "              importance_type='gain', interaction_constraints='',\n",
      "              learning_rate=0.03, max_delta_step=0, max_depth=6,\n",
      "              min_child_weight=1, missing=nan, monotone_constraints='()',\n",
      "              n_estimators=360, n_jobs=4, nthread=4, num_parallel_tree=1,\n",
      "              random_state=100, reg_alpha=0, reg_lambda=1, scale_pos_weight=1,\n",
      "              seed=100, subsample=0.94, tree_method='exact',\n",
      "              validate_parameters=1, verbosity=None)\n"
     ]
    }
   ],
   "source": [
    "# Definindo qual conjunto de dados de treino, já escalado, deve ser utilizado e a sua variável target.\n",
    "X = VarTreinoPadronizadas[rfeVAR]\n",
    "Y = targetTreino\n",
    "\n",
    "# Definindo qual conjunto de dados de teste, já escalado, deve ser utilizado e a sua variável target.\n",
    "testX = VarTestePadronizadas\n",
    "\n",
    "# Definindo os valores que devem ser testados, em cada um dos parâmetros do modelo especificado.\n",
    "paramGrid = dict (\n",
    "    missing          = [np.nan],\n",
    "    max_depth        = [4, 5, 6], \n",
    "    n_estimators     = [340, 350, 360], \n",
    "    learning_rate    = [0.03], \n",
    "    nthread          = [4], \n",
    "    subsample        = [0.94, 0.95], \n",
    "    colsample_bytree = [0.85], \n",
    "    seed             = [100]\n",
    ")\n",
    "\n",
    "# Criando uma instância da classe do modelo Random Forest.\n",
    "model = xgb.XGBClassifier()\n",
    "\n",
    "# Criando o grid, para fazer a busca dos melhores parâmetros para o modelo.\n",
    "grid = GridSearchCV(estimator = model, param_grid = paramGrid, cv = 10, verbose = True, n_jobs = -1)\n",
    "\n",
    "# Buscando pelos melhores parâmetros para o modelo.\n",
    "grid.fit(X, Y)\n",
    "\n",
    "# Exibindo a configuração, do melhor modelo treinado.\n",
    "print(\"\\n\" + \"Melhores Parâmetros para o Modelo:\" + \"\\n\\n\", grid.best_estimator_)"
   ]
  },
  {
   "cell_type": "code",
   "execution_count": 65,
   "metadata": {},
   "outputs": [
    {
     "name": "stdout",
     "output_type": "stream",
     "text": [
      "[0]\tvalidation_0-auc:0.80546\n",
      "Will train until validation_0-auc hasn't improved in 20 rounds.\n",
      "[1]\tvalidation_0-auc:0.80837\n",
      "[2]\tvalidation_0-auc:0.80881\n",
      "[3]\tvalidation_0-auc:0.81585\n",
      "[4]\tvalidation_0-auc:0.81762\n",
      "[5]\tvalidation_0-auc:0.81788\n",
      "[6]\tvalidation_0-auc:0.81918\n",
      "[7]\tvalidation_0-auc:0.81876\n",
      "[8]\tvalidation_0-auc:0.81819\n",
      "[9]\tvalidation_0-auc:0.81927\n",
      "[10]\tvalidation_0-auc:0.81929\n",
      "[11]\tvalidation_0-auc:0.81945\n",
      "[12]\tvalidation_0-auc:0.82000\n",
      "[13]\tvalidation_0-auc:0.82020\n",
      "[14]\tvalidation_0-auc:0.82031\n",
      "[15]\tvalidation_0-auc:0.82069\n",
      "[16]\tvalidation_0-auc:0.82134\n",
      "[17]\tvalidation_0-auc:0.82118\n",
      "[18]\tvalidation_0-auc:0.82105\n",
      "[19]\tvalidation_0-auc:0.82063\n",
      "[20]\tvalidation_0-auc:0.82113\n",
      "[21]\tvalidation_0-auc:0.82095\n",
      "[22]\tvalidation_0-auc:0.82110\n",
      "[23]\tvalidation_0-auc:0.82127\n",
      "[24]\tvalidation_0-auc:0.82169\n",
      "[25]\tvalidation_0-auc:0.82188\n",
      "[26]\tvalidation_0-auc:0.82219\n",
      "[27]\tvalidation_0-auc:0.82161\n",
      "[28]\tvalidation_0-auc:0.82184\n",
      "[29]\tvalidation_0-auc:0.82262\n",
      "[30]\tvalidation_0-auc:0.82295\n",
      "[31]\tvalidation_0-auc:0.82192\n",
      "[32]\tvalidation_0-auc:0.82152\n",
      "[33]\tvalidation_0-auc:0.82269\n",
      "[34]\tvalidation_0-auc:0.82282\n",
      "[35]\tvalidation_0-auc:0.82291\n",
      "[36]\tvalidation_0-auc:0.82314\n",
      "[37]\tvalidation_0-auc:0.82321\n",
      "[38]\tvalidation_0-auc:0.82346\n",
      "[39]\tvalidation_0-auc:0.82344\n",
      "[40]\tvalidation_0-auc:0.82326\n",
      "[41]\tvalidation_0-auc:0.82344\n",
      "[42]\tvalidation_0-auc:0.82311\n",
      "[43]\tvalidation_0-auc:0.82324\n",
      "[44]\tvalidation_0-auc:0.82337\n",
      "[45]\tvalidation_0-auc:0.82358\n",
      "[46]\tvalidation_0-auc:0.82364\n",
      "[47]\tvalidation_0-auc:0.82361\n",
      "[48]\tvalidation_0-auc:0.82370\n",
      "[49]\tvalidation_0-auc:0.82318\n",
      "[50]\tvalidation_0-auc:0.82320\n",
      "[51]\tvalidation_0-auc:0.82398\n",
      "[52]\tvalidation_0-auc:0.82308\n",
      "[53]\tvalidation_0-auc:0.82342\n",
      "[54]\tvalidation_0-auc:0.82150\n",
      "[55]\tvalidation_0-auc:0.82348\n",
      "[56]\tvalidation_0-auc:0.82378\n",
      "[57]\tvalidation_0-auc:0.82434\n",
      "[58]\tvalidation_0-auc:0.82462\n",
      "[59]\tvalidation_0-auc:0.82465\n",
      "[60]\tvalidation_0-auc:0.82461\n",
      "[61]\tvalidation_0-auc:0.82471\n",
      "[62]\tvalidation_0-auc:0.82492\n",
      "[63]\tvalidation_0-auc:0.82487\n",
      "[64]\tvalidation_0-auc:0.82509\n",
      "[65]\tvalidation_0-auc:0.82521\n",
      "[66]\tvalidation_0-auc:0.82509\n",
      "[67]\tvalidation_0-auc:0.82498\n",
      "[68]\tvalidation_0-auc:0.82532\n",
      "[69]\tvalidation_0-auc:0.82522\n",
      "[70]\tvalidation_0-auc:0.82553\n",
      "[71]\tvalidation_0-auc:0.82563\n",
      "[72]\tvalidation_0-auc:0.82581\n",
      "[73]\tvalidation_0-auc:0.82591\n",
      "[74]\tvalidation_0-auc:0.82600\n",
      "[75]\tvalidation_0-auc:0.82581\n",
      "[76]\tvalidation_0-auc:0.82615\n",
      "[77]\tvalidation_0-auc:0.82625\n",
      "[78]\tvalidation_0-auc:0.82677\n",
      "[79]\tvalidation_0-auc:0.82641\n",
      "[80]\tvalidation_0-auc:0.82637\n",
      "[81]\tvalidation_0-auc:0.82664\n",
      "[82]\tvalidation_0-auc:0.82625\n",
      "[83]\tvalidation_0-auc:0.82638\n",
      "[84]\tvalidation_0-auc:0.82610\n",
      "[85]\tvalidation_0-auc:0.82625\n",
      "[86]\tvalidation_0-auc:0.82662\n",
      "[87]\tvalidation_0-auc:0.82667\n",
      "[88]\tvalidation_0-auc:0.82631\n",
      "[89]\tvalidation_0-auc:0.82656\n",
      "[90]\tvalidation_0-auc:0.82658\n",
      "[91]\tvalidation_0-auc:0.82686\n",
      "[92]\tvalidation_0-auc:0.82705\n",
      "[93]\tvalidation_0-auc:0.82698\n",
      "[94]\tvalidation_0-auc:0.82702\n",
      "[95]\tvalidation_0-auc:0.82705\n",
      "[96]\tvalidation_0-auc:0.82725\n",
      "[97]\tvalidation_0-auc:0.82729\n",
      "[98]\tvalidation_0-auc:0.82728\n",
      "[99]\tvalidation_0-auc:0.82730\n",
      "[100]\tvalidation_0-auc:0.82719\n",
      "[101]\tvalidation_0-auc:0.82702\n",
      "[102]\tvalidation_0-auc:0.82683\n",
      "[103]\tvalidation_0-auc:0.82695\n",
      "[104]\tvalidation_0-auc:0.82710\n",
      "[105]\tvalidation_0-auc:0.82710\n",
      "[106]\tvalidation_0-auc:0.82736\n",
      "[107]\tvalidation_0-auc:0.82746\n",
      "[108]\tvalidation_0-auc:0.82744\n",
      "[109]\tvalidation_0-auc:0.82763\n",
      "[110]\tvalidation_0-auc:0.82747\n",
      "[111]\tvalidation_0-auc:0.82733\n",
      "[112]\tvalidation_0-auc:0.82752\n",
      "[113]\tvalidation_0-auc:0.82724\n",
      "[114]\tvalidation_0-auc:0.82719\n",
      "[115]\tvalidation_0-auc:0.82744\n",
      "[116]\tvalidation_0-auc:0.82740\n",
      "[117]\tvalidation_0-auc:0.82729\n",
      "[118]\tvalidation_0-auc:0.82738\n",
      "[119]\tvalidation_0-auc:0.82731\n",
      "[120]\tvalidation_0-auc:0.82751\n",
      "[121]\tvalidation_0-auc:0.82738\n",
      "[122]\tvalidation_0-auc:0.82735\n",
      "[123]\tvalidation_0-auc:0.82749\n",
      "[124]\tvalidation_0-auc:0.82750\n",
      "[125]\tvalidation_0-auc:0.82738\n",
      "[126]\tvalidation_0-auc:0.82737\n",
      "[127]\tvalidation_0-auc:0.82746\n",
      "[128]\tvalidation_0-auc:0.82748\n",
      "[129]\tvalidation_0-auc:0.82743\n",
      "Stopping. Best iteration:\n",
      "[109]\tvalidation_0-auc:0.82763\n",
      "\n"
     ]
    },
    {
     "data": {
      "text/plain": [
       "XGBClassifier(base_score=0.5, booster='gbtree', colsample_bylevel=1,\n",
       "              colsample_bynode=1, colsample_bytree=0.85, gamma=0, gpu_id=-1,\n",
       "              importance_type='gain', interaction_constraints='',\n",
       "              learning_rate=0.03, max_delta_step=0, max_depth=6,\n",
       "              min_child_weight=1, missing=nan, monotone_constraints='()',\n",
       "              n_estimators=360, n_jobs=4, nthread=4, num_parallel_tree=1,\n",
       "              random_state=100, reg_alpha=0, reg_lambda=1, scale_pos_weight=1,\n",
       "              seed=100, subsample=0.94, tree_method='exact',\n",
       "              validate_parameters=1, verbosity=None)"
      ]
     },
     "execution_count": 65,
     "metadata": {},
     "output_type": "execute_result"
    }
   ],
   "source": [
    "# Criando o modelo, com a melhor configuração encontrada.\n",
    "classifierXGB = grid.best_estimator_\n",
    "\n",
    "# Criando dados de treino e de validação.\n",
    "X_treino, X_teste, Y_treino, Y_teste = train_test_split(X, Y, test_size = 0.3)\n",
    "\n",
    "# Treinando o modelo.\n",
    "classifierXGB.fit (\n",
    "    X                     = X_treino, \n",
    "    y                     = Y_treino,\n",
    "    early_stopping_rounds = 20,\n",
    "    eval_metric           = \"auc\", \n",
    "    eval_set              = [(X_teste, Y_teste)]\n",
    ")"
   ]
  },
  {
   "cell_type": "code",
   "execution_count": 66,
   "metadata": {},
   "outputs": [
    {
     "name": "stdout",
     "output_type": "stream",
     "text": [
      "Acurácia para os dados de treino: 0.96\n",
      "ROC AUC para os dados de treino: 0.839\n"
     ]
    }
   ],
   "source": [
    "# Calculando a acurácia e o ROC AUC do modelo, para o conjunto de dados de treino.\n",
    "scoreTrainXGB  = accuracy_score(Y_treino, classifierXGB.predict(X_treino))\n",
    "rocAucTrainXGB = roc_auc_score(Y_treino, classifierXGB.predict_proba(X_treino)[:,1])\n",
    "\n",
    "# Visualizando o resultado.\n",
    "\n",
    "print('Acurácia para os dados de treino: ' + str(round(scoreTrainXGB,3)) + '\\n' + \n",
    "      'ROC AUC para os dados de treino: ' + str(round(rocAucTrainXGB,3))\n",
    ")"
   ]
  },
  {
   "cell_type": "markdown",
   "metadata": {},
   "source": [
    "Apenas para termos como base, vamos realizar uma comparação da curva ROC antes da otimização e depois"
   ]
  },
  {
   "cell_type": "code",
   "execution_count": 67,
   "metadata": {},
   "outputs": [
    {
     "name": "stdout",
     "output_type": "stream",
     "text": [
      "Antes da Otimização 81.243\n",
      "Depois da Otimização 83.89999999999999\n"
     ]
    }
   ],
   "source": [
    "print('Antes da Otimização', round(ROCXgb,3))\n",
    "print('Depois da Otimização', round(rocAucTrainXGB,3) * 100)"
   ]
  },
  {
   "cell_type": "code",
   "execution_count": 68,
   "metadata": {},
   "outputs": [],
   "source": [
    "# Salvando as previsões feitas pelo classificador, para o conjunto de teste em um arquivo CSV.\n",
    "pd.DataFrame({\n",
    "    'ID'    : testeID,\n",
    "    'TARGET': classifierXGB.predict_proba(VarTestePadronizadas)[:, 1]\n",
    "}).to_csv('previsoes/Final.csv', index = False)"
   ]
  },
  {
   "cell_type": "markdown",
   "metadata": {},
   "source": [
    "Com esse modelo foi possivel obter uma métrica de 0.79307 de Score no Kaggle, conseguindo atingir nosso objetivo que era de pelo menos 0.7"
   ]
  },
  {
   "cell_type": "markdown",
   "metadata": {},
   "source": [
    "# FIM"
   ]
  },
  {
   "cell_type": "markdown",
   "metadata": {},
   "source": [
    "### Muito Obrigado"
   ]
  }
 ],
 "metadata": {
  "kernelspec": {
   "display_name": "Python 3",
   "language": "python",
   "name": "python3"
  },
  "language_info": {
   "codemirror_mode": {
    "name": "ipython",
    "version": 3
   },
   "file_extension": ".py",
   "mimetype": "text/x-python",
   "name": "python",
   "nbconvert_exporter": "python",
   "pygments_lexer": "ipython3",
   "version": "3.7.6"
  }
 },
 "nbformat": 4,
 "nbformat_minor": 4
}
